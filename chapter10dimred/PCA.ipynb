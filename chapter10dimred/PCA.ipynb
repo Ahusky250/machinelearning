{
 "cells": [
  {
   "cell_type": "code",
   "execution_count": 1,
   "metadata": {},
   "outputs": [],
   "source": [
    "import numpy as np\n",
    "import pandas as pd\n",
    "import matplotlib.pyplot as plt"
   ]
  },
  {
   "cell_type": "code",
   "execution_count": 2,
   "metadata": {},
   "outputs": [],
   "source": [
    "df = pd.read_csv('secom.data', sep = ' ', names = range(590))\n",
    "dft = pd.read_csv('testSet.txt', sep = '\\t', names = ['x0', 'x1'])"
   ]
  },
  {
   "cell_type": "code",
   "execution_count": 3,
   "metadata": {},
   "outputs": [
    {
     "data": {
      "text/plain": [
       "matrix([[10.235186, 11.321997],\n",
       "        [10.122339, 11.810993],\n",
       "        [ 9.190236,  8.904943],\n",
       "        ...,\n",
       "        [ 9.854922,  9.201393],\n",
       "        [ 9.11458 ,  9.134215],\n",
       "        [10.334899,  8.543604]])"
      ]
     },
     "execution_count": 3,
     "metadata": {},
     "output_type": "execute_result"
    }
   ],
   "source": [
    "dataMat = np.mat(dft.values)\n",
    "dataMat"
   ]
  },
  {
   "cell_type": "code",
   "execution_count": 9,
   "metadata": {},
   "outputs": [],
   "source": [
    "\"\"\"\n",
    "input : \n",
    "    dataMat : 数据集矩阵\n",
    "    d ： 低维空间维数\n",
    "output ：\n",
    "    W : 投影矩阵\n",
    "    u : 样本均值向量\n",
    "\"\"\"\n",
    "def PCA(dataMat, d):\n",
    "    r, c = dataMat.shape\n",
    "    u = np.sum(dataMat, 0) / r\n",
    "    X = dataMat - u   # 去中心化\n",
    "    covMat = X.T * X\n",
    "    lamb, A = np.linalg.eig(covMat)\n",
    "    eigInd = np.argsort(lamb)\n",
    "#     print(eigInd)\n",
    "    eigInd = eigInd[:-(d+1):-1]\n",
    "#     print(eigInd)\n",
    "    W = A[:,eigInd]\n",
    "    return W, u"
   ]
  },
  {
   "cell_type": "code",
   "execution_count": 16,
   "metadata": {},
   "outputs": [],
   "source": [
    "W, u = PCA(dataMat, 1)"
   ]
  },
  {
   "cell_type": "code",
   "execution_count": 17,
   "metadata": {},
   "outputs": [],
   "source": [
    "\"\"\"\n",
    "dataNew:\n",
    "    求得降维后的dataMat'\n",
    "reconMat:\n",
    "    求得重构的xi一尖\n",
    "\"\"\"\n",
    "dataNew = (dataMat - u) * W\n",
    "reconMat = dataNew * W.T + u"
   ]
  },
  {
   "cell_type": "code",
   "execution_count": 18,
   "metadata": {
    "scrolled": true
   },
   "outputs": [
    {
     "data": {
      "text/plain": [
       "<matplotlib.collections.PathCollection at 0x9a6a208>"
      ]
     },
     "execution_count": 18,
     "metadata": {},
     "output_type": "execute_result"
    },
    {
     "data": {
      "image/png": "[encoded data removed]",
      "text/plain": [
       "<matplotlib.figure.Figure at 0x8d13048>"
      ]
     },
     "metadata": {},
     "output_type": "display_data"
    }
   ],
   "source": [
    "x = dataMat.T.getA()[0];y = dataMat.T.getA()[1]\n",
    "fig = plt.figure()\n",
    "ax = fig.add_subplot(111)\n",
    "ax.scatter(x,y)\n",
    "x0 = reconMat[:,0].flatten().A[0];y0 = reconMat[:,1].flatten().A[0]\n",
    "ax.scatter(x0, y0, marker = 'o', c = 'r' )"
   ]
  },
  {
   "cell_type": "code",
   "execution_count": null,
   "metadata": {},
   "outputs": [],
   "source": []
  }
 ],
 "metadata": {
  "kernelspec": {
   "display_name": "Python 3",
   "language": "python",
   "name": "python3"
  },
  "language_info": {
   "codemirror_mode": {
    "name": "ipython",
    "version": 3
   },
   "file_extension": ".py",
   "mimetype": "text/x-python",
   "name": "python",
   "nbconvert_exporter": "python",
   "pygments_lexer": "ipython3",
   "version": "3.6.4"
  }
 },
 "nbformat": 4,
 "nbformat_minor": 2
}
