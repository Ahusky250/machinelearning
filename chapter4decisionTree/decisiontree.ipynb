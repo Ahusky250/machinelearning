{
 "cells": [
  {
   "cell_type": "code",
   "execution_count": 2,
   "metadata": {},
   "outputs": [],
   "source": [
    "import pandas as pd\n",
    "import numpy as np\n",
    "import math\n",
    "import matplotlib.pyplot as plt\n",
    "from pylab import *\n",
    "mpl.rcParams['font.sans-serif'] = ['SimHei']"
   ]
  },
  {
   "cell_type": "code",
   "execution_count": 3,
   "metadata": {},
   "outputs": [],
   "source": [
    "filepath = r'D:\\Project\\jupyter\\machinelearning\\watermelon3_0.csv'"
   ]
  },
  {
   "cell_type": "code",
   "execution_count": 18,
   "metadata": {
    "scrolled": false
   },
   "outputs": [
    {
     "name": "stdout",
     "output_type": "stream",
     "text": [
      "Index(['色泽', '根蒂', '敲声', '纹理', '脐部', '触感', '好瓜'], dtype='object')\n",
      "    色泽  根蒂  敲声  纹理  脐部  触感 好瓜\n",
      "0   青绿  蜷缩  浊响  清晰  凹陷  硬滑  是\n",
      "1   乌黑  蜷缩  沉闷  清晰  凹陷  硬滑  是\n",
      "2   乌黑  蜷缩  浊响  清晰  凹陷  硬滑  是\n",
      "3   青绿  蜷缩  沉闷  清晰  凹陷  硬滑  是\n",
      "4   浅白  蜷缩  浊响  清晰  凹陷  硬滑  是\n",
      "5   青绿  稍蜷  浊响  清晰  稍凹  软粘  是\n",
      "6   乌黑  稍蜷  浊响  稍糊  稍凹  软粘  是\n",
      "7   乌黑  稍蜷  浊响  清晰  稍凹  硬滑  是\n",
      "8   乌黑  稍蜷  沉闷  稍糊  稍凹  硬滑  否\n",
      "9   青绿  硬挺  清脆  清晰  平坦  软粘  否\n",
      "10  浅白  硬挺  清脆  模糊  平坦  硬滑  否\n",
      "11  浅白  蜷缩  浊响  模糊  平坦  软粘  否\n",
      "12  青绿  稍蜷  浊响  稍糊  凹陷  硬滑  否\n",
      "13  浅白  稍蜷  沉闷  稍糊  凹陷  硬滑  否\n",
      "14  乌黑  稍蜷  浊响  清晰  稍凹  软粘  否\n",
      "15  浅白  蜷缩  浊响  模糊  平坦  硬滑  否\n",
      "16  青绿  蜷缩  沉闷  稍糊  稍凹  硬滑  否\n"
     ]
    }
   ],
   "source": [
    "#df = pd.read_csv('lenses.csv', sep = '\\t')\n",
    "df = pd.read_csv('watermelon3_0b.csv')\n",
    "if '编号' in df.columns:\n",
    "    del df['编号']\n",
    "print(df.columns)\n",
    "print(df)\n",
    "# print(df.shape)\n",
    "# print(df.iloc[[0,1]])\n",
    "# print(df.loc[[0,1]])\n",
    "#dataMat = df.values"
   ]
  },
  {
   "cell_type": "code",
   "execution_count": 5,
   "metadata": {
    "scrolled": false
   },
   "outputs": [
    {
     "ename": "KeyError",
     "evalue": "'clas'",
     "output_type": "error",
     "traceback": [
      "\u001b[1;31m---------------------------------------------------------------------------\u001b[0m",
      "\u001b[1;31mKeyError\u001b[0m                                  Traceback (most recent call last)",
      "\u001b[1;32m<ipython-input-5-f24ac30a5f79>\u001b[0m in \u001b[0;36m<module>\u001b[1;34m()\u001b[0m\n\u001b[1;32m----> 1\u001b[1;33m \u001b[0mgrouped\u001b[0m \u001b[1;33m=\u001b[0m \u001b[0mdf\u001b[0m\u001b[1;33m.\u001b[0m\u001b[0mgroupby\u001b[0m\u001b[1;33m(\u001b[0m\u001b[1;33m[\u001b[0m\u001b[1;34m'clas'\u001b[0m\u001b[1;33m]\u001b[0m\u001b[1;33m)\u001b[0m\u001b[1;33m.\u001b[0m\u001b[0mgroups\u001b[0m\u001b[1;33m\u001b[0m\u001b[0m\n\u001b[0m\u001b[0;32m      2\u001b[0m \u001b[1;31m#print(grouped)\u001b[0m\u001b[1;33m\u001b[0m\u001b[1;33m\u001b[0m\u001b[0m\n\u001b[0;32m      3\u001b[0m \u001b[1;31m# print(group.values())\u001b[0m\u001b[1;33m\u001b[0m\u001b[1;33m\u001b[0m\u001b[0m\n\u001b[0;32m      4\u001b[0m \u001b[0mind\u001b[0m \u001b[1;33m=\u001b[0m \u001b[0mgrouped\u001b[0m\u001b[1;33m[\u001b[0m\u001b[1;34m'soft'\u001b[0m\u001b[1;33m]\u001b[0m\u001b[1;33m\u001b[0m\u001b[0m\n\u001b[0;32m      5\u001b[0m \u001b[0mprint\u001b[0m\u001b[1;33m(\u001b[0m\u001b[0mind\u001b[0m\u001b[1;33m)\u001b[0m\u001b[1;33m\u001b[0m\u001b[0m\n",
      "\u001b[1;32mD:\\Programfiles\\Anaconda3\\lib\\site-packages\\pandas\\core\\generic.py\u001b[0m in \u001b[0;36mgroupby\u001b[1;34m(self, by, axis, level, as_index, sort, group_keys, squeeze, **kwargs)\u001b[0m\n\u001b[0;32m   5160\u001b[0m         return groupby(self, by=by, axis=axis, level=level, as_index=as_index,\n\u001b[0;32m   5161\u001b[0m                        \u001b[0msort\u001b[0m\u001b[1;33m=\u001b[0m\u001b[0msort\u001b[0m\u001b[1;33m,\u001b[0m \u001b[0mgroup_keys\u001b[0m\u001b[1;33m=\u001b[0m\u001b[0mgroup_keys\u001b[0m\u001b[1;33m,\u001b[0m \u001b[0msqueeze\u001b[0m\u001b[1;33m=\u001b[0m\u001b[0msqueeze\u001b[0m\u001b[1;33m,\u001b[0m\u001b[1;33m\u001b[0m\u001b[0m\n\u001b[1;32m-> 5162\u001b[1;33m                        **kwargs)\n\u001b[0m\u001b[0;32m   5163\u001b[0m \u001b[1;33m\u001b[0m\u001b[0m\n\u001b[0;32m   5164\u001b[0m     def asfreq(self, freq, method=None, how=None, normalize=False,\n",
      "\u001b[1;32mD:\\Programfiles\\Anaconda3\\lib\\site-packages\\pandas\\core\\groupby.py\u001b[0m in \u001b[0;36mgroupby\u001b[1;34m(obj, by, **kwds)\u001b[0m\n\u001b[0;32m   1846\u001b[0m         \u001b[1;32mraise\u001b[0m \u001b[0mTypeError\u001b[0m\u001b[1;33m(\u001b[0m\u001b[1;34m'invalid type: %s'\u001b[0m \u001b[1;33m%\u001b[0m \u001b[0mtype\u001b[0m\u001b[1;33m(\u001b[0m\u001b[0mobj\u001b[0m\u001b[1;33m)\u001b[0m\u001b[1;33m)\u001b[0m\u001b[1;33m\u001b[0m\u001b[0m\n\u001b[0;32m   1847\u001b[0m \u001b[1;33m\u001b[0m\u001b[0m\n\u001b[1;32m-> 1848\u001b[1;33m     \u001b[1;32mreturn\u001b[0m \u001b[0mklass\u001b[0m\u001b[1;33m(\u001b[0m\u001b[0mobj\u001b[0m\u001b[1;33m,\u001b[0m \u001b[0mby\u001b[0m\u001b[1;33m,\u001b[0m \u001b[1;33m**\u001b[0m\u001b[0mkwds\u001b[0m\u001b[1;33m)\u001b[0m\u001b[1;33m\u001b[0m\u001b[0m\n\u001b[0m\u001b[0;32m   1849\u001b[0m \u001b[1;33m\u001b[0m\u001b[0m\n\u001b[0;32m   1850\u001b[0m \u001b[1;33m\u001b[0m\u001b[0m\n",
      "\u001b[1;32mD:\\Programfiles\\Anaconda3\\lib\\site-packages\\pandas\\core\\groupby.py\u001b[0m in \u001b[0;36m__init__\u001b[1;34m(self, obj, keys, axis, level, grouper, exclusions, selection, as_index, sort, group_keys, squeeze, **kwargs)\u001b[0m\n\u001b[0;32m    514\u001b[0m                                                     \u001b[0mlevel\u001b[0m\u001b[1;33m=\u001b[0m\u001b[0mlevel\u001b[0m\u001b[1;33m,\u001b[0m\u001b[1;33m\u001b[0m\u001b[0m\n\u001b[0;32m    515\u001b[0m                                                     \u001b[0msort\u001b[0m\u001b[1;33m=\u001b[0m\u001b[0msort\u001b[0m\u001b[1;33m,\u001b[0m\u001b[1;33m\u001b[0m\u001b[0m\n\u001b[1;32m--> 516\u001b[1;33m                                                     mutated=self.mutated)\n\u001b[0m\u001b[0;32m    517\u001b[0m \u001b[1;33m\u001b[0m\u001b[0m\n\u001b[0;32m    518\u001b[0m         \u001b[0mself\u001b[0m\u001b[1;33m.\u001b[0m\u001b[0mobj\u001b[0m \u001b[1;33m=\u001b[0m \u001b[0mobj\u001b[0m\u001b[1;33m\u001b[0m\u001b[0m\n",
      "\u001b[1;32mD:\\Programfiles\\Anaconda3\\lib\\site-packages\\pandas\\core\\groupby.py\u001b[0m in \u001b[0;36m_get_grouper\u001b[1;34m(obj, key, axis, level, sort, mutated, validate)\u001b[0m\n\u001b[0;32m   2932\u001b[0m                 \u001b[0min_axis\u001b[0m\u001b[1;33m,\u001b[0m \u001b[0mname\u001b[0m\u001b[1;33m,\u001b[0m \u001b[0mlevel\u001b[0m\u001b[1;33m,\u001b[0m \u001b[0mgpr\u001b[0m \u001b[1;33m=\u001b[0m \u001b[1;32mFalse\u001b[0m\u001b[1;33m,\u001b[0m \u001b[1;32mNone\u001b[0m\u001b[1;33m,\u001b[0m \u001b[0mgpr\u001b[0m\u001b[1;33m,\u001b[0m \u001b[1;32mNone\u001b[0m\u001b[1;33m\u001b[0m\u001b[0m\n\u001b[0;32m   2933\u001b[0m             \u001b[1;32melse\u001b[0m\u001b[1;33m:\u001b[0m\u001b[1;33m\u001b[0m\u001b[0m\n\u001b[1;32m-> 2934\u001b[1;33m                 \u001b[1;32mraise\u001b[0m \u001b[0mKeyError\u001b[0m\u001b[1;33m(\u001b[0m\u001b[0mgpr\u001b[0m\u001b[1;33m)\u001b[0m\u001b[1;33m\u001b[0m\u001b[0m\n\u001b[0m\u001b[0;32m   2935\u001b[0m         \u001b[1;32melif\u001b[0m \u001b[0misinstance\u001b[0m\u001b[1;33m(\u001b[0m\u001b[0mgpr\u001b[0m\u001b[1;33m,\u001b[0m \u001b[0mGrouper\u001b[0m\u001b[1;33m)\u001b[0m \u001b[1;32mand\u001b[0m \u001b[0mgpr\u001b[0m\u001b[1;33m.\u001b[0m\u001b[0mkey\u001b[0m \u001b[1;32mis\u001b[0m \u001b[1;32mnot\u001b[0m \u001b[1;32mNone\u001b[0m\u001b[1;33m:\u001b[0m\u001b[1;33m\u001b[0m\u001b[0m\n\u001b[0;32m   2936\u001b[0m             \u001b[1;31m# Add key to exclusions\u001b[0m\u001b[1;33m\u001b[0m\u001b[1;33m\u001b[0m\u001b[0m\n",
      "\u001b[1;31mKeyError\u001b[0m: 'clas'"
     ]
    }
   ],
   "source": [
    "grouped = df.groupby(['clas']).groups\n",
    "#print(grouped)\n",
    "# print(group.values())\n",
    "ind = grouped['soft']\n",
    "print(ind)\n",
    "df.loc[ind]\n",
    "# print(df['密度'])\n",
    "# set(df['密度'])\n",
    "# len(df[df['密度']> 0.381])\n",
    "# len(df[df['密度']< 0.381])"
   ]
  },
  {
   "cell_type": "code",
   "execution_count": 5,
   "metadata": {
    "scrolled": true
   },
   "outputs": [
    {
     "name": "stdout",
     "output_type": "stream",
     "text": [
      "    色泽  根蒂  敲声  纹理  脐部  触感 好瓜\n",
      "0   青绿  蜷缩  浊响  清晰  凹陷  硬滑  是\n",
      "1   乌黑  蜷缩  沉闷  清晰  凹陷  硬滑  是\n",
      "2   乌黑  蜷缩  浊响  清晰  凹陷  硬滑  是\n",
      "5   青绿  稍蜷  浊响  清晰  稍凹  软粘  是\n",
      "6   乌黑  稍蜷  浊响  稍糊  稍凹  软粘  是\n",
      "9   青绿  硬挺  清脆  清晰  平坦  软粘  否\n",
      "13  浅白  稍蜷  沉闷  稍糊  凹陷  硬滑  否\n",
      "14  乌黑  稍蜷  浊响  清晰  稍凹  软粘  否\n",
      "15  浅白  蜷缩  浊响  模糊  平坦  硬滑  否\n",
      "16  青绿  蜷缩  沉闷  稍糊  稍凹  硬滑  否     色泽  根蒂  敲声  纹理  脐部  触感 好瓜\n",
      "3   青绿  蜷缩  沉闷  清晰  凹陷  硬滑  是\n",
      "4   浅白  蜷缩  浊响  清晰  凹陷  硬滑  是\n",
      "7   乌黑  稍蜷  浊响  清晰  稍凹  硬滑  是\n",
      "8   乌黑  稍蜷  沉闷  稍糊  稍凹  硬滑  否\n",
      "10  浅白  硬挺  清脆  模糊  平坦  硬滑  否\n",
      "11  浅白  蜷缩  浊响  模糊  平坦  软粘  否\n",
      "12  青绿  稍蜷  浊响  稍糊  凹陷  硬滑  否\n"
     ]
    }
   ],
   "source": [
    "df_train = df.loc[[0,1,2,5,6,9,13,14,15,16]]\n",
    "df_val = df.loc[[3,4,7,8,10,11,12]]\n",
    "print(df_train, df_val)"
   ]
  },
  {
   "cell_type": "code",
   "execution_count": 6,
   "metadata": {
    "scrolled": true
   },
   "outputs": [
    {
     "name": "stdout",
     "output_type": "stream",
     "text": [
      "None\n",
      "[1, 1, 2, 3, 4, 5]\n",
      "[1, 2, 3, 4, 5]\n",
      "None\n",
      "None\n"
     ]
    }
   ],
   "source": [
    "l = [1, 3, 2, 5, 1 , 4]\n",
    "print(l.sort())\n",
    "print(l)\n",
    "l1 = list(set(l))\n",
    "print(l1)\n",
    "ls = l1.sort()\n",
    "print(ls)\n",
    "print(list(set([1,3,4,2,1])).sort())"
   ]
  },
  {
   "cell_type": "code",
   "execution_count": 6,
   "metadata": {},
   "outputs": [],
   "source": [
    "\"\"\"\n",
    "input:\n",
    "    dataframe:样本集\n",
    "    class_atrr:决策属性\n",
    "output:\n",
    "    ShannonEntropy\n",
    "\"\"\"\n",
    "\n",
    "def Ent(dataframe, clas_atrr):\n",
    "    row, col = dataframe.shape\n",
    "    grouped_atrr = dataframe.groupby(by = clas_atrr).groups\n",
    "    p = []\n",
    "    for key in grouped_atrr:\n",
    "        p.append(len(grouped_atrr[key])/row)\n",
    "    ent = 0\n",
    "    for value in p:\n",
    "        ent += -(value * math.log(value, 2)) \n",
    "#         print(ent)\n",
    "    return ent"
   ]
  },
  {
   "cell_type": "code",
   "execution_count": 7,
   "metadata": {},
   "outputs": [],
   "source": [
    "\"\"\"\n",
    "input:\n",
    "    dataframe:样本集\n",
    "    atrr:对属性atrr对样本集进行划分所获得的 \"信息增益\"\n",
    "output:\n",
    "    属性atrr对样本集进行划分所获得的信息增益\n",
    "\"\"\"\n",
    "def Gain(dataframe, atrr, clas_atrr):\n",
    "    row, col = dataframe.shape\n",
    "    grouped_atrr = dataframe.groupby(atrr).groups\n",
    "    entv_tot = 0\n",
    "    for key in grouped_atrr:\n",
    "        ind = grouped_atrr[key]\n",
    "        dfv = dataframe.loc[ind]\n",
    "        entv_tot += (len(grouped_atrr[key])/row) * Ent(dfv, clas_atrr) \n",
    "#         print(entv_tot)\n",
    "    gain = Ent(dataframe, clas_atrr) - entv_tot\n",
    "    \n",
    "    return gain"
   ]
  },
  {
   "cell_type": "code",
   "execution_count": 8,
   "metadata": {},
   "outputs": [],
   "source": [
    "\"\"\"\n",
    "input:\n",
    "    dataframe:样本集\n",
    "    连续属性atrr:对属性atrr对样本集进行划分所获得的 \"信息增益\"\n",
    "output:\n",
    "    属性atrr对样本集进行划分所获得的信息增益\n",
    "\"\"\"\n",
    "def GainCont(dataframe, atrr, clas_atrr = 'clas'):\n",
    "    row, col = dataframe.shape\n",
    "    data_atrr = df[atrr]\n",
    "    values = list(set(data_atrr)); values.sort()\n",
    "    Ta = [(values[i]+values[i+1])/2 for i in range(len(values)-1)]\n",
    "    ent_t_all = []\n",
    "    for t in Ta:\n",
    "        group_pos = dataframe[dataframe[atrr] >= t]\n",
    "        group_neg = dataframe[dataframe[atrr] < t ]\n",
    "#         grouped_pos = group_pos.groupby(by = clas_atrr).groups\n",
    "#         grouped_neg = group_neg.groupby(by = clas_atrr).groups\n",
    "        ent_t = (len(group_pos)/row)*Ent(group_pos, clas_atrr) + (len(group_neg)/row*Ent(group_neg, clas_atrr))\n",
    "        ent_t_all.append(ent_t)\n",
    "    ent_d = Ent(dataframe, clas_atrr)   \n",
    "    gain_all = [ent_d-v for v in ent_t_all]\n",
    "    gain_t = max(gain_all)\n",
    "    ind = gain_all.index(gain_t)\n",
    "    \n",
    "    return gain_t, Ta[ind]"
   ]
  },
  {
   "cell_type": "code",
   "execution_count": 9,
   "metadata": {},
   "outputs": [],
   "source": [
    "# GainCont(df, '含糖率', '好瓜')"
   ]
  },
  {
   "cell_type": "code",
   "execution_count": 20,
   "metadata": {},
   "outputs": [],
   "source": [
    "\"\"\"\n",
    "input:\n",
    "    dataframe:样本集\n",
    "    A:属性集\n",
    "    clas_atrr:决策属性\n",
    "output:\n",
    "    以node 为根节点的一棵决策树\n",
    "\"\"\"\n",
    "def TreeGenerate(dataframe, A, clas_atrr , df):\n",
    "#     decisionTree = {}\n",
    "    #groupedA = dataframe.groupby(by = A).groups\n",
    "    grouped = dataframe.groupby(by = clas_atrr).groups\n",
    "#     clas = dataframe[clas_atrr]; del dataframe[clas_atrr]\n",
    "    if len(grouped) == 1:\n",
    "        return list(grouped.keys())[0]\n",
    "    if len(A) == 0 :\n",
    "        return list(grouped.keys())[0]\n",
    "    groupedA = dataframe.groupby(by = A).groups\n",
    "    if len(groupedA) == 1:\n",
    "        return list(grouped.keys())[0]\n",
    "    gain_atrr = []\n",
    "#     for atrr in A:\n",
    "#         if atrr == '密度' or atrr == '含糖量'：\n",
    "#             gaincont,sep = GainCont(dataframe, atrr, clas_atrr)\n",
    "#             gain_atrr.append(gaincont)\n",
    "#         else:\n",
    "#             gain_atrr.append(Gain(dataframe, atrr, clas_atrr))\n",
    "    for atrr in A:\n",
    "        gain_atrr.append(Gain(dataframe, atrr, clas_atrr))\n",
    "    ind_best = gain_atrr.index(max(gain_atrr))\n",
    "    a_best = A[ind_best]\n",
    "    decisionTree = {a_best:{}}; del A[ind_best]\n",
    "#     dataframe[clas_atrr] = clas\n",
    "    grouped_a_best = dataframe.groupby(by = a_best).groups\n",
    "    print(grouped_a_best)\n",
    "    groupeddf = df.groupby(by = a_best).groups\n",
    "    cnt = 0\n",
    "    for key in groupeddf:\n",
    "        print(key)\n",
    "        if not key in grouped_a_best:\n",
    "            list_g = list(grouped.values())\n",
    "            list_num = [len(v) for v in list_g]  \n",
    "            decisionTree[a_best][key] = list(grouped.keys())[list_num.index(max([len(v) for v in list_g]))]\n",
    "            continue\n",
    "        subA = A[:]\n",
    "        print(subA)\n",
    "        ind = grouped_a_best[key]\n",
    "        dfv = dataframe.loc[ind]\n",
    "        #print(dfv)\n",
    "        decisionTree[a_best][key] = TreeGenerate(dfv, subA, clas_atrr, df)\n",
    "    \n",
    "    return decisionTree"
   ]
  },
  {
   "cell_type": "code",
   "execution_count": 21,
   "metadata": {
    "scrolled": false
   },
   "outputs": [
    {
     "name": "stdout",
     "output_type": "stream",
     "text": [
      "['色泽', '根蒂', '敲声', '纹理', '脐部', '触感']\n",
      "{'模糊': Int64Index([10, 11, 15], dtype='int64'), '清晰': Int64Index([0, 1, 2, 3, 4, 5, 7, 9, 14], dtype='int64'), '稍糊': Int64Index([6, 8, 12, 13, 16], dtype='int64')}\n",
      "模糊\n",
      "['色泽', '根蒂', '敲声', '脐部', '触感']\n",
      "清晰\n",
      "['色泽', '根蒂', '敲声', '脐部', '触感']\n",
      "{'硬挺': Int64Index([9], dtype='int64'), '稍蜷': Int64Index([5, 7, 14], dtype='int64'), '蜷缩': Int64Index([0, 1, 2, 3, 4], dtype='int64')}\n",
      "硬挺\n",
      "['色泽', '敲声', '脐部', '触感']\n",
      "稍蜷\n",
      "['色泽', '敲声', '脐部', '触感']\n",
      "{'乌黑': Int64Index([7, 14], dtype='int64'), '青绿': Int64Index([5], dtype='int64')}\n",
      "乌黑\n",
      "['敲声', '脐部', '触感']\n",
      "{'硬滑': Int64Index([7], dtype='int64'), '软粘': Int64Index([14], dtype='int64')}\n",
      "硬滑\n",
      "['敲声', '脐部']\n",
      "软粘\n",
      "['敲声', '脐部']\n",
      "浅白\n",
      "青绿\n",
      "['敲声', '脐部', '触感']\n",
      "蜷缩\n",
      "['色泽', '敲声', '脐部', '触感']\n",
      "稍糊\n",
      "['色泽', '根蒂', '敲声', '脐部', '触感']\n",
      "{'硬滑': Int64Index([8, 12, 13, 16], dtype='int64'), '软粘': Int64Index([6], dtype='int64')}\n",
      "硬滑\n",
      "['色泽', '根蒂', '敲声', '脐部']\n",
      "软粘\n",
      "['色泽', '根蒂', '敲声', '脐部']\n",
      "{'纹理': {'模糊': '否', '清晰': {'根蒂': {'硬挺': '否', '稍蜷': {'色泽': {'乌黑': {'触感': {'硬滑': '是', '软粘': '否'}}, '浅白': '是', '青绿': '是'}}, '蜷缩': '是'}}, '稍糊': {'触感': {'硬滑': '否', '软粘': '是'}}}}\n"
     ]
    }
   ],
   "source": [
    "A = list(df);A.remove('好瓜')\n",
    "print(A)\n",
    "decisionTree = TreeGenerate(df, A, '好瓜', df)\n",
    "print(decisionTree)"
   ]
  },
  {
   "cell_type": "code",
   "execution_count": 13,
   "metadata": {},
   "outputs": [],
   "source": [
    "decisionNode = dict(boxstyle = 'sawtooth', fc = '0.8')\n",
    "leafNode = dict(boxstyle = 'round4', fc = '0.8')\n",
    "arrow_args = dict(arrowstyle = '<-')"
   ]
  },
  {
   "cell_type": "code",
   "execution_count": 14,
   "metadata": {},
   "outputs": [],
   "source": [
    "def getNumLeafs(decisionTree):\n",
    "    numLeafs = 0\n",
    "    firstStr = list(decisionTree.keys())[0]\n",
    "    print(firstStr)\n",
    "    #print(type(type(decisionTree)))\n",
    "    secondDict = decisionTree[firstStr]\n",
    "    for key in secondDict.keys():\n",
    "        if type(secondDict[key]).__name__ == 'dict':\n",
    "            numLeafs += getNumLeafs(secondDict[key])\n",
    "        else: numLeafs += 1\n",
    "    \n",
    "    return numLeafs"
   ]
  },
  {
   "cell_type": "code",
   "execution_count": 15,
   "metadata": {},
   "outputs": [],
   "source": [
    "def getTreeDepth(decisionTree):\n",
    "    maxDepth = 0\n",
    "    firstStr = list(decisionTree.keys())[0]\n",
    "    secondDict = decisionTree[firstStr]\n",
    "    for key in secondDict.keys():\n",
    "        if type(secondDict[key]).__name__ == 'dict':\n",
    "            thisDepth = 1 + getTreeDepth(secondDict[key])\n",
    "        else: thisDepth = 1\n",
    "        if thisDepth > maxDepth:maxDepth = thisDepth\n",
    "    \n",
    "    return maxDepth"
   ]
  },
  {
   "cell_type": "code",
   "execution_count": 16,
   "metadata": {
    "scrolled": true
   },
   "outputs": [
    {
     "data": {
      "text/plain": [
       "4"
      ]
     },
     "execution_count": 16,
     "metadata": {},
     "output_type": "execute_result"
    }
   ],
   "source": [
    "getTreeDepth(decisionTree)"
   ]
  },
  {
   "cell_type": "code",
   "execution_count": 17,
   "metadata": {},
   "outputs": [],
   "source": [
    "def plotNode(nodeTxt, centerPt, parentPt, nodeType):\n",
    "    createPlot.ax1.annotate(nodeTxt, xy=parentPt,  xycoords='axes fraction',\n",
    "             xytext=centerPt, textcoords='axes fraction',\n",
    "             va=\"center\", ha=\"center\", bbox=nodeType, arrowprops=arrow_args )\n",
    "    "
   ]
  },
  {
   "cell_type": "code",
   "execution_count": 18,
   "metadata": {},
   "outputs": [],
   "source": [
    "def plotMidText(cntrPt, parentPt, txtString):\n",
    "    xMid = (parentPt[0]-cntrPt[0])/2.0 + cntrPt[0]\n",
    "    yMid = (parentPt[1]-cntrPt[1])/2.0 + cntrPt[1]\n",
    "    createPlot.ax1.text(xMid, yMid, txtString, va=\"center\", ha=\"center\", rotation=30)"
   ]
  },
  {
   "cell_type": "code",
   "execution_count": 19,
   "metadata": {},
   "outputs": [],
   "source": [
    "def plotTree(myTree, parentPt, nodeTxt):#if the first key tells you what feat was split on\n",
    "    numLeafs = getNumLeafs(myTree)  #this determines the x width of this tree\n",
    "    depth = getTreeDepth(myTree)\n",
    "    firstStr = list(myTree.keys())[0]     #the text label for this node should be this\n",
    "    cntrPt = (plotTree.xOff + (1.0 + float(numLeafs))/2.0/plotTree.totalW, plotTree.yOff)\n",
    "    plotMidText(cntrPt, parentPt, nodeTxt)\n",
    "    plotNode(firstStr, cntrPt, parentPt, decisionNode)\n",
    "    secondDict = myTree[firstStr]\n",
    "    plotTree.yOff = plotTree.yOff - 1.0/plotTree.totalD\n",
    "    for key in secondDict.keys():\n",
    "        if type(secondDict[key]).__name__=='dict':#test to see if the nodes are dictonaires, if not they are leaf nodes   \n",
    "            plotTree(secondDict[key],cntrPt,str(key))        #recursion\n",
    "        else:   #it's a leaf node print the leaf node\n",
    "            plotTree.xOff = plotTree.xOff + 1.0/plotTree.totalW\n",
    "            plotNode(secondDict[key], (plotTree.xOff, plotTree.yOff), cntrPt, leafNode)\n",
    "            plotMidText((plotTree.xOff, plotTree.yOff), cntrPt, str(key))\n",
    "    plotTree.yOff = plotTree.yOff + 1.0/plotTree.totalD"
   ]
  },
  {
   "cell_type": "code",
   "execution_count": 20,
   "metadata": {},
   "outputs": [],
   "source": [
    "def createPlot(inTree):\n",
    "    fig = plt.figure(1, facecolor='white')\n",
    "    fig.clf()\n",
    "    axprops = dict(xticks=[], yticks=[])\n",
    "    createPlot.ax1 = plt.subplot(111, frameon=False, **axprops)    #no ticks\n",
    "    #createPlot.ax1 = plt.subplot(111, frameon=False) #ticks for demo puropses \n",
    "    plotTree.totalW = float(getNumLeafs(inTree))\n",
    "    plotTree.totalD = float(getTreeDepth(inTree))\n",
    "    plotTree.xOff = -0.5/plotTree.totalW; plotTree.yOff = 1.0;\n",
    "    plotTree(inTree, (0.5,1.0), '')\n",
    "    plt.show()"
   ]
  },
  {
   "cell_type": "code",
   "execution_count": 51,
   "metadata": {
    "scrolled": true
   },
   "outputs": [
    {
     "name": "stdout",
     "output_type": "stream",
     "text": [
      "tear\n",
      "asti\n",
      "age\n",
      "prescription\n",
      "prescription\n",
      "age\n",
      "tear\n",
      "asti\n",
      "age\n",
      "prescription\n",
      "prescription\n",
      "age\n",
      "asti\n",
      "age\n",
      "prescription\n",
      "prescription\n",
      "age\n",
      "age\n",
      "prescription\n",
      "prescription\n",
      "prescription\n",
      "age\n",
      "age\n"
     ]
    },
    {
     "data": {
      "image/png": "[encoded data removed]",
      "text/plain": [
       "<matplotlib.figure.Figure at 0x9600438>"
      ]
     },
     "metadata": {},
     "output_type": "display_data"
    }
   ],
   "source": [
    "createPlot(decisionTree)"
   ]
  },
  {
   "cell_type": "code",
   "execution_count": 22,
   "metadata": {},
   "outputs": [],
   "source": [
    "\"\"\"\n",
    "input: \n",
    "    tree: 训练好的模型decisionTree\n",
    "    A:属性标签\n",
    "    x:需要预测的object\n",
    "output:\n",
    "    预测分类结果\n",
    "\"\"\"\n",
    "def classify_by_decisionTree(tree, A, x):\n",
    "    firstkey = list(tree.keys())[0]\n",
    "    secondDict = tree[firstkey]\n",
    "    atrr_ind = A.index(firstkey)\n",
    "    for key in secondDict.keys():\n",
    "        if x[atrr_ind] == key:\n",
    "            if type(secondDict[key]).__name__ == 'dict':\n",
    "                classLabel = classify_by_decisionTree(secondDict[key], A, x)\n",
    "            else:\n",
    "                classLabel = secondDict[key]\n",
    "    \n",
    "    return classLabel"
   ]
  },
  {
   "cell_type": "code",
   "execution_count": 23,
   "metadata": {},
   "outputs": [
    {
     "data": {
      "text/plain": [
       "'是'"
      ]
     },
     "execution_count": 23,
     "metadata": {},
     "output_type": "execute_result"
    }
   ],
   "source": [
    "x =['乌黑','蜷缩','沉闷','清晰','凹陷','硬滑']\n",
    "A = list(df)\n",
    "classify_by_decisionTree(decisionTree, A, x)"
   ]
  },
  {
   "cell_type": "code",
   "execution_count": 38,
   "metadata": {},
   "outputs": [],
   "source": [
    "\"\"\"\n",
    "    决策树的存储与读取\n",
    "\"\"\"\n",
    "import pickle  #使用pickle\n",
    "import json  #使用json\n",
    "\n",
    "def storeTree(tree, filename):\n",
    "    f = open(filename, 'wb')\n",
    "    pickle.dump(tree, f)\n",
    "    f.close()\n",
    "def grabTree(filename):\n",
    "    f = open(filename, 'rb')\n",
    "    tree = pickle.load(f)\n",
    "    f.close()\n",
    "    return tree\n",
    "\n",
    "def storeTree_j(tree, filename):\n",
    "    f = open(filename, 'w')\n",
    "    json.dump(tree, f)\n",
    "    f.close()\n",
    "def grabTree_j(filename):\n",
    "    f = open(filename)\n",
    "    tree = json.load(f)\n",
    "    f.close()\n",
    "    return tree"
   ]
  },
  {
   "cell_type": "code",
   "execution_count": 36,
   "metadata": {},
   "outputs": [],
   "source": [
    "storeTree_j(decisionTree, 'json.txt')"
   ]
  },
  {
   "cell_type": "code",
   "execution_count": 32,
   "metadata": {},
   "outputs": [
    {
     "data": {
      "text/plain": [
       "{'纹理': {'模糊': '否',\n",
       "  '清晰': {'根蒂': {'硬挺': '否',\n",
       "    '稍蜷': {'色泽': {'乌黑': {'触感': {'硬滑': '是', '软粘': '否'}}, '浅白': '是', '青绿': '是'}},\n",
       "    '蜷缩': '是'}},\n",
       "  '稍糊': {'触感': {'硬滑': '否', '软粘': '是'}}}}"
      ]
     },
     "execution_count": 32,
     "metadata": {},
     "output_type": "execute_result"
    }
   ],
   "source": [
    "decisionTree"
   ]
  },
  {
   "cell_type": "code",
   "execution_count": 39,
   "metadata": {},
   "outputs": [
    {
     "name": "stdout",
     "output_type": "stream",
     "text": [
      "{'纹理': {'模糊': '否', '清晰': {'根蒂': {'硬挺': '否', '稍蜷': {'色泽': {'乌黑': {'触感': {'硬滑': '是', '软粘': '否'}}, '浅白': '是', '青绿': '是'}}, '蜷缩': '是'}}, '稍糊': {'触感': {'硬滑': '否', '软粘': '是'}}}}\n"
     ]
    }
   ],
   "source": [
    "tree = grabTree_j('json.txt')\n",
    "print(tree)"
   ]
  },
  {
   "cell_type": "code",
   "execution_count": null,
   "metadata": {},
   "outputs": [],
   "source": []
  }
 ],
 "metadata": {
  "kernelspec": {
   "display_name": "Python 3",
   "language": "python",
   "name": "python3"
  },
  "language_info": {
   "codemirror_mode": {
    "name": "ipython",
    "version": 3
   },
   "file_extension": ".py",
   "mimetype": "text/x-python",
   "name": "python",
   "nbconvert_exporter": "python",
   "pygments_lexer": "ipython3",
   "version": "3.6.4"
  }
 },
 "nbformat": 4,
 "nbformat_minor": 2
}
