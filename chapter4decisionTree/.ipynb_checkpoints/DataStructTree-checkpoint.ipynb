{
 "cells": [
  {
   "cell_type": "code",
   "execution_count": 1,
   "metadata": {},
   "outputs": [],
   "source": [
    "import json"
   ]
  },
  {
   "cell_type": "code",
   "execution_count": 5,
   "metadata": {},
   "outputs": [],
   "source": [
    "class BinaryTree(object):\n",
    "    def __init__(self, rootobj):\n",
    "        self.root = rootobj\n",
    "        self.leftChild = None\n",
    "        self.rightChild = None\n",
    "    \n",
    "    def insertLeft(self, newNode):\n",
    "        if self.leftChild == None:\n",
    "            self.leftChild = BinaryTree(newNode)\n",
    "        else:\n",
    "            temp = BinaryTree(newNode)\n",
    "            temp.leftChild = self.leftChild\n",
    "            self.leftChild = temp    \n",
    "    def insertRight(self, newNode):\n",
    "        if self.rightChild == None:\n",
    "            self.rightChild = BinaryTree(newNode)\n",
    "        else:\n",
    "            temp = BinaryTree(newNode)\n",
    "            temp.rightChild = self.rightChild\n",
    "            self.rightChild = temp\n",
    "    \n",
    "    def getLeft(self):\n",
    "        return self.leftChild    \n",
    "    def getRight(self):\n",
    "        return self.rightChild\n",
    "    \n",
    "    def setRootVal(self, val):\n",
    "        self.root = val\n",
    "    def getRootVal(self):\n",
    "        return self.root"
   ]
  },
  {
   "cell_type": "code",
   "execution_count": 6,
   "metadata": {},
   "outputs": [
    {
     "name": "stdout",
     "output_type": "stream",
     "text": [
      "a\n",
      "None\n",
      "<__main__.BinaryTree object at 0x00000000058530B8>\n",
      "b\n",
      "<__main__.BinaryTree object at 0x0000000005853208>\n",
      "c\n",
      "hello\n"
     ]
    }
   ],
   "source": [
    "r = BinaryTree('a')\n",
    "print(r.getRootVal())\n",
    "print(r.getLeft())\n",
    "r.insertLeft('b')\n",
    "print(r.getLeft())\n",
    "print(r.getLeft().getRootVal())\n",
    "r.insertRight('c')\n",
    "print(r.getRight())\n",
    "print(r.getRight().getRootVal())\n",
    "r.getRight().setRootVal('hello')\n",
    "print(r.getRight().getRootVal())"
   ]
  }
 ],
 "metadata": {
  "kernelspec": {
   "display_name": "Python 3",
   "language": "python",
   "name": "python3"
  },
  "language_info": {
   "codemirror_mode": {
    "name": "ipython",
    "version": 3
   },
   "file_extension": ".py",
   "mimetype": "text/x-python",
   "name": "python",
   "nbconvert_exporter": "python",
   "pygments_lexer": "ipython3",
   "version": "3.6.4"
  }
 },
 "nbformat": 4,
 "nbformat_minor": 2
}
