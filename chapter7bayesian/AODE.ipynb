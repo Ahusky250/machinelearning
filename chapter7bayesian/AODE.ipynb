{
 "cells": [
  {
   "cell_type": "code",
   "execution_count": 1,
   "metadata": {},
   "outputs": [],
   "source": [
    "import numpy as np\n",
    "import pandas as pd"
   ]
  },
  {
   "cell_type": "code",
   "execution_count": 2,
   "metadata": {},
   "outputs": [],
   "source": [
    "filename = 'watermelon3_0.csv'\n",
    "df = pd.read_csv(filename)"
   ]
  },
  {
   "cell_type": "code",
   "execution_count": 3,
   "metadata": {},
   "outputs": [
    {
     "data": {
      "text/plain": [
       "17"
      ]
     },
     "execution_count": 3,
     "metadata": {},
     "output_type": "execute_result"
    }
   ],
   "source": [
    "len(df)"
   ]
  },
  {
   "cell_type": "code",
   "execution_count": 4,
   "metadata": {},
   "outputs": [],
   "source": [
    "attr = df.columns\n",
    "datadf = df[attr[1:-3]]\n",
    "labeldf = df[['好瓜']]"
   ]
  },
  {
   "cell_type": "code",
   "execution_count": 14,
   "metadata": {
    "scrolled": true
   },
   "outputs": [
    {
     "data": {
      "text/plain": [
       "'青绿'"
      ]
     },
     "execution_count": 14,
     "metadata": {},
     "output_type": "execute_result"
    }
   ],
   "source": [
    "x = datadf.loc[0] # 第一个例子的数据\n",
    "x[0]"
   ]
  },
  {
   "cell_type": "code",
   "execution_count": 13,
   "metadata": {
    "scrolled": false
   },
   "outputs": [
    {
     "name": "stdout",
     "output_type": "stream",
     "text": [
      "{'色泽': 3, '根蒂': 3, '敲声': 3, '纹理': 3, '脐部': 3, '触感': 2}\n",
      "否 : 0.0028579262019532985\n",
      "是 : 0.08503601601454483\n"
     ]
    }
   ],
   "source": [
    "grouped_c = df.groupby(by = '好瓜').groups\n",
    "N = len(grouped_c)\n",
    "Na = {}\n",
    "for a in attr[1:-3]:\n",
    "    grouped_a = df.groupby(by = a).groups\n",
    "    Na[a] = len(grouped_a)   #第i个属性可能的取值数\n",
    "print(Na)\n",
    "for key in grouped_c:\n",
    "    indc = grouped_c[key]\n",
    "    Dc_df = df.loc[indc]\n",
    "    res = 0\n",
    "    for ai in attr[1:-3]:\n",
    "#         print('ai:', ai)\n",
    "        grouped_c_ai = Dc_df.groupby(by = ai).groups\n",
    "        #     Ni = len(grouped_c_ai)   不能使用grouped_c_ai，可能会缺少值  \n",
    "        if x[ai] in grouped_c_ai:\n",
    "            indxi = grouped_c_ai[x[ai]]\n",
    "            Dcxi_df = Dc_df.loc[indxi]\n",
    "            flag = 1\n",
    "        else:\n",
    "            flag = 0\n",
    "        Pcxi = (len(Dcxi_df) * flag + 1)/(len(df) + N * Na[ai])\n",
    "#         print('Pcxi:', Pcxi, len(Dcxi_df) * flag, '+' ,1, '/',N, '*', Na[ai])\n",
    "#         print(Dcxi_df)\n",
    "        paiP = 1\n",
    "        for aj in attr[1:-3]:\n",
    "            grouped_c_ai_aj = Dcxi_df.groupby(by = aj).groups\n",
    "            if x[aj] in grouped_c_ai_aj:\n",
    "                Pcxi_xj = (len(grouped_c_ai_aj[x[aj]]) +1) / (len(Dcxi_df) + Na[aj])\n",
    "#                 print(aj,':',x[aj], Pcxi_xj, len(grouped_c_ai_aj[x[aj]]), '+',1, '/',len(Dcxi_df), '+', Na[aj] )\n",
    "            else :\n",
    "                Pcxi_xj = ( 1) / (len(Dcxi_df) + Na[aj])\n",
    "#                 print(aj,':',x[aj], Pcxi_xj, 1, '/',len(Dcxi_df), '+', Na[aj] )\n",
    "            paiP *= Pcxi_xj\n",
    "        res += Pcxi * paiP\n",
    "    print(key,':',res)"
   ]
  },
  {
   "cell_type": "code",
   "execution_count": null,
   "metadata": {},
   "outputs": [],
   "source": [
    "\n",
    "x[ai]"
   ]
  },
  {
   "cell_type": "code",
   "execution_count": null,
   "metadata": {},
   "outputs": [],
   "source": [
    "ai"
   ]
  },
  {
   "cell_type": "code",
   "execution_count": null,
   "metadata": {},
   "outputs": [],
   "source": []
  }
 ],
 "metadata": {
  "kernelspec": {
   "display_name": "Python 3",
   "language": "python",
   "name": "python3"
  },
  "language_info": {
   "codemirror_mode": {
    "name": "ipython",
    "version": 3
   },
   "file_extension": ".py",
   "mimetype": "text/x-python",
   "name": "python",
   "nbconvert_exporter": "python",
   "pygments_lexer": "ipython3",
   "version": "3.6.4"
  }
 },
 "nbformat": 4,
 "nbformat_minor": 2
}
