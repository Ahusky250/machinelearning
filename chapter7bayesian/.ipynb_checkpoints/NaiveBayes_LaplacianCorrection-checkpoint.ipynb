{
 "cells": [
  {
   "cell_type": "code",
   "execution_count": 1,
   "metadata": {},
   "outputs": [],
   "source": [
    "import pandas as pd\n",
    "import numpy as np"
   ]
  },
  {
   "cell_type": "code",
   "execution_count": 2,
   "metadata": {},
   "outputs": [],
   "source": [
    "filename = 'watermelon3_0.csv'"
   ]
  },
  {
   "cell_type": "code",
   "execution_count": 3,
   "metadata": {},
   "outputs": [],
   "source": [
    "df = pd.read_csv(filename)"
   ]
  },
  {
   "cell_type": "code",
   "execution_count": 57,
   "metadata": {},
   "outputs": [],
   "source": [
    "attributes = df.columns[1:-3]\n",
    "datadf = df[attributes]\n",
    "labeldf = df[['好瓜']]"
   ]
  },
  {
   "cell_type": "code",
   "execution_count": 39,
   "metadata": {},
   "outputs": [],
   "source": [
    "dataMat = np.mat(df[attributes].values)\n",
    "labelMat = np.mat(df[['好瓜']].values)"
   ]
  },
  {
   "cell_type": "code",
   "execution_count": 158,
   "metadata": {},
   "outputs": [
    {
     "name": "stdout",
     "output_type": "stream",
     "text": [
      "0.57375 0.4961111111111111 0.27875 0.1542222222222222\n",
      "0.12921051483086485 0.19471867170641627 0.10092394590553252 0.10779468653159321\n"
     ]
    }
   ],
   "source": [
    "# 计算 u ,sigma   方差求不对 ？？？？？？？  样本方差除以 n - 1\n",
    "\n",
    "indu = labeldf.index[labeldf['好瓜'] == '是']\n",
    "dfu = df[['密度']].loc[indu]\n",
    "densityMat = dfu[['密度']].values\n",
    "u1d = np.sum(densityMat)/len(densityMat)\n",
    "# print('len:',len(densityMat))\n",
    "sigma1d = np.power(np.sum(np.power(densityMat - u1d, 2))/(len(densityMat)-1), 0.5)\n",
    "# print(np.power(sigma1d, 0.5))\n",
    "indu = labeldf.index[labeldf['好瓜'] == '否']\n",
    "dfu = df[['密度']].loc[indu]\n",
    "densityMat = dfu[['密度']].values\n",
    "u0d = np.sum(densityMat)/len(densityMat)\n",
    "sigma0d = np.power(np.sum(np.power(densityMat - u0d, 2))/(len(densityMat)-1), 0.5)\n",
    "# print(np.power(sigma1d, 0.5))\n",
    "indu = labeldf.index[labeldf['好瓜'] == '是']\n",
    "dfu = df[['含糖率']].loc[indu]\n",
    "densityMat = dfu[['含糖率']].values\n",
    "u1s = np.sum(densityMat)/len(densityMat)\n",
    "sigma1s = np.power(np.sum(np.power(densityMat - u1s, 2))/(len(densityMat)-1), 0.5)\n",
    "indu = labeldf.index[labeldf['好瓜'] == '否']\n",
    "dfu = df[['含糖率']].loc[indu]\n",
    "densityMat = dfu[['含糖率']].values\n",
    "u0s = np.sum(densityMat)/len(densityMat)\n",
    "sigma0s = np.power(np.sum(np.power(densityMat - u0s, 2))/(len(densityMat)-1), 0.5)\n",
    "print(u1d, u0d, u1s, u0s)\n",
    "print(sigma1d, sigma0d, sigma1s, sigma0s)\n",
    "dict_u = {}\n",
    "dict_u['是'] = {}\n",
    "dict_u['否'] = {}\n",
    "dict_u['是']['密度'] = u1d\n",
    "dict_u['是']['含糖率'] = u1s\n",
    "dict_u['否']['密度'] = u0d\n",
    "dict_u['否']['含糖率'] = u0s\n",
    "dict_s = {}\n",
    "dict_s['是'] = {}\n",
    "dict_s['否'] = {}\n",
    "dict_s['是']['密度'] = sigma1d\n",
    "dict_s['是']['含糖率'] = sigma1s\n",
    "dict_s['否']['密度'] = sigma0d\n",
    "dict_s['否']['含糖率'] = sigma0s"
   ]
  },
  {
   "cell_type": "code",
   "execution_count": 129,
   "metadata": {},
   "outputs": [],
   "source": [
    "def normal(u, sigma, x):\n",
    "    return 1/(np.power(2*np.pi, 0.5) * sigma) * np.exp(-np.power(x-u, 2)/(2 * np.power(sigma, 2)))"
   ]
  },
  {
   "cell_type": "code",
   "execution_count": 58,
   "metadata": {},
   "outputs": [],
   "source": [
    "grouped = labeldf.groupby(by = '好瓜').groups\n",
    "N = len(grouped)\n",
    "Dc, c = labeldf.shape\n",
    "Pc = []\n",
    "for key in grouped:\n",
    "    Pc.append((len(grouped[key]) + 1) / (Dc+ N))"
   ]
  },
  {
   "cell_type": "code",
   "execution_count": 73,
   "metadata": {},
   "outputs": [],
   "source": [
    "Dict = {}\n",
    "for key1 in grouped:\n",
    "    Dict[key1] = {}\n",
    "    ind = grouped[key1]\n",
    "    datadf_Dc = datadf.loc[ind]\n",
    "    for attr in attributes:\n",
    "        Dict[key1][attr] = {}\n",
    "#         d = {} \n",
    "        grouped_xi = datadf[[attr]].groupby(by = attr).groups\n",
    "        grouped_c_xi = datadf_Dc.groupby(by = attr).groups\n",
    "        Ni = len(grouped_xi)\n",
    "        for key2 in grouped_xi:\n",
    "            if not key2 in grouped_c_xi:\n",
    "                Dc_xi = 0\n",
    "            else :\n",
    "                Dc_xi = len(grouped_c_xi[key2])\n",
    "            pxic = (Dc_xi + 1) / (len(ind) + Ni)\n",
    "            Dict[key1][attr][key2] = pxic\n",
    "#             print(d)\n",
    "#         Dict[key1][attr] = d"
   ]
  },
  {
   "cell_type": "code",
   "execution_count": 74,
   "metadata": {},
   "outputs": [
    {
     "data": {
      "text/plain": [
       "{'否': {'敲声': {'沉闷': 0.3333333333333333, '浊响': 0.4166666666666667, '清脆': 0.25},\n",
       "  '根蒂': {'硬挺': 0.25, '稍蜷': 0.4166666666666667, '蜷缩': 0.3333333333333333},\n",
       "  '纹理': {'模糊': 0.3333333333333333, '清晰': 0.25, '稍糊': 0.4166666666666667},\n",
       "  '脐部': {'凹陷': 0.25, '平坦': 0.4166666666666667, '稍凹': 0.3333333333333333},\n",
       "  '色泽': {'乌黑': 0.25, '浅白': 0.4166666666666667, '青绿': 0.3333333333333333},\n",
       "  '触感': {'硬滑': 0.6363636363636364, '软粘': 0.36363636363636365}},\n",
       " '是': {'敲声': {'沉闷': 0.2727272727272727,\n",
       "   '浊响': 0.6363636363636364,\n",
       "   '清脆': 0.09090909090909091},\n",
       "  '根蒂': {'硬挺': 0.09090909090909091,\n",
       "   '稍蜷': 0.36363636363636365,\n",
       "   '蜷缩': 0.5454545454545454},\n",
       "  '纹理': {'模糊': 0.09090909090909091,\n",
       "   '清晰': 0.7272727272727273,\n",
       "   '稍糊': 0.18181818181818182},\n",
       "  '脐部': {'凹陷': 0.5454545454545454,\n",
       "   '平坦': 0.09090909090909091,\n",
       "   '稍凹': 0.36363636363636365},\n",
       "  '色泽': {'乌黑': 0.45454545454545453,\n",
       "   '浅白': 0.18181818181818182,\n",
       "   '青绿': 0.36363636363636365},\n",
       "  '触感': {'硬滑': 0.7, '软粘': 0.3}}}"
      ]
     },
     "execution_count": 74,
     "metadata": {},
     "output_type": "execute_result"
    }
   ],
   "source": [
    "Dict"
   ]
  },
  {
   "cell_type": "code",
   "execution_count": 168,
   "metadata": {},
   "outputs": [],
   "source": [
    "def inference(x, dict_u, dict_s, Dict):\n",
    "    P = {}\n",
    "    for c in ['是', '否']:\n",
    "        p = 1\n",
    "        for k in x.index:\n",
    "            if k in ['密度', '含糖率']:\n",
    "                p *= normal(dict_u[c][k], dict_s[c][k], x[k])\n",
    "            else:\n",
    "                p *= Dict[c][k][x[k]]\n",
    "    #         print(c, k, x[k], p)\n",
    "        P[c] = p\n",
    "        print(P)\n",
    "    res = max(P, key = d.get)\n",
    "    print(res)\n",
    "    return res"
   ]
  },
  {
   "cell_type": "code",
   "execution_count": 174,
   "metadata": {},
   "outputs": [
    {
     "name": "stdout",
     "output_type": "stream",
     "text": [
      "{'是': 0.05410994067389689}\n",
      "{'是': 0.05410994067389689, '否': 0.00014672485180238287}\n",
      "是\n"
     ]
    },
    {
     "data": {
      "text/plain": [
       "'是'"
      ]
     },
     "execution_count": 174,
     "metadata": {},
     "output_type": "execute_result"
    }
   ],
   "source": [
    "x = df[df.columns[1:-1]].loc[0]\n",
    "inference(x, dict_u, dict_s, Dict)"
   ]
  },
  {
   "cell_type": "code",
   "execution_count": 149,
   "metadata": {},
   "outputs": [
    {
     "data": {
      "text/plain": [
       "1"
      ]
     },
     "execution_count": 149,
     "metadata": {},
     "output_type": "execute_result"
    }
   ],
   "source": [
    "d = {1: 2, 2:1, 5:1}\n",
    "max(d, key = d.get)"
   ]
  },
  {
   "cell_type": "code",
   "execution_count": 145,
   "metadata": {},
   "outputs": [
    {
     "name": "stdout",
     "output_type": "stream",
     "text": [
      "色泽\n",
      "1.0\n",
      "根蒂\n",
      "1.0\n",
      "敲声\n",
      "1.0\n",
      "纹理\n",
      "1.0\n",
      "脐部\n",
      "1.0\n",
      "触感\n",
      "1.0\n"
     ]
    }
   ],
   "source": [
    "for k in Dict['否']:\n",
    "    print(k)\n",
    "    sum = 0\n",
    "    for k1 in Dict['是'][k]:\n",
    "        sum += Dict['是'][k][k1]\n",
    "    print(sum)"
   ]
  }
 ],
 "metadata": {
  "kernelspec": {
   "display_name": "Python 3",
   "language": "python",
   "name": "python3"
  },
  "language_info": {
   "codemirror_mode": {
    "name": "ipython",
    "version": 3
   },
   "file_extension": ".py",
   "mimetype": "text/x-python",
   "name": "python",
   "nbconvert_exporter": "python",
   "pygments_lexer": "ipython3",
   "version": "3.6.4"
  }
 },
 "nbformat": 4,
 "nbformat_minor": 2
}
