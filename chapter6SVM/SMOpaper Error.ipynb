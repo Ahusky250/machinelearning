{
 "cells": [
  {
   "cell_type": "code",
   "execution_count": 1,
   "metadata": {},
   "outputs": [],
   "source": [
    "import numpy as np\n",
    "import pandas as pd\n",
    "import matplotlib.pyplot as plt"
   ]
  },
  {
   "cell_type": "code",
   "execution_count": 2,
   "metadata": {},
   "outputs": [],
   "source": [
    "class optStruct:\n",
    "    def __init__(self, dataMat, labelMat, C, toler):\n",
    "        self.dataMat = dataMat\n",
    "        self.labelMat = labelMat\n",
    "        self.C  = C\n",
    "        self.tol = toler\n",
    "        self.r = dataMat.shape[0]\n",
    "        self.alpha = np.mat(np.zeros((self.r, 1)))\n",
    "        self.b = 0\n",
    "        self.eCache = np.mat(np.zeros((self.r, 2)))"
   ]
  },
  {
   "cell_type": "code",
   "execution_count": 3,
   "metadata": {},
   "outputs": [],
   "source": [
    "\"\"\"\n",
    "核函数定义\n",
    "\"\"\"\n",
    "def kernel(x1, x2):\n",
    "    return x1 * x2.T"
   ]
  },
  {
   "cell_type": "code",
   "execution_count": 22,
   "metadata": {},
   "outputs": [],
   "source": [
    "def calcEk(k,oS):\n",
    "#     print('calc')\n",
    "#     print(oS)\n",
    "    f_ = float(np.multiply(oS.alpha,oS.labelMat).T * (oS.dataMat * oS.dataMat[k,:].T) + oS.b)\n",
    "    Ek = f_ - float(oS.labelMat[k])\n",
    "    return Ek"
   ]
  },
  {
   "cell_type": "code",
   "execution_count": 5,
   "metadata": {},
   "outputs": [],
   "source": [
    "def updateCache(k, oS):\n",
    "    Ek = calcEk(k, oS)\n",
    "    oS.eCache[k] = [1,Ek]"
   ]
  },
  {
   "cell_type": "code",
   "execution_count": 6,
   "metadata": {},
   "outputs": [],
   "source": [
    "def selectJrand(i,m):\n",
    "    j=i #we want to select any J not equal to i\n",
    "    while (j==i):\n",
    "        j = int(np.random.uniform(0,m))\n",
    "    return j"
   ]
  },
  {
   "cell_type": "code",
   "execution_count": 21,
   "metadata": {},
   "outputs": [],
   "source": [
    "def selectI1(i, oS, Ei):\n",
    "    maxK = -1; maxDeltaE = 0; Ej = 0\n",
    "    oS.eCache[i] = [1,Ei]  #set valid #choose the alpha that gives the maximum delta E\n",
    "    validEcacheList = np.nonzero(oS.eCache[:,0].A)[0]\n",
    "    if (len(validEcacheList)) > 1:\n",
    "        for k in validEcacheList:   #loop through valid Ecache values and find the one that maximizes delta E\n",
    "            if k == i: continue #don't calc for i, waste of time\n",
    "            Ek = calcEk(k, oS)\n",
    "            deltaE = abs(Ei - Ek)\n",
    "            if (deltaE > maxDeltaE):\n",
    "                maxK = k; maxDeltaE = deltaE; Ej = Ek\n",
    "        return maxK, Ej\n",
    "    else:   #in this case (first time around) we don't have any valid eCache values\n",
    "        j = selectJrand(i, oS.r)\n",
    "#         print('s')\n",
    "#         print(oS)\n",
    "        Ej = calcEk(j, oS)\n",
    "    return j, Ej "
   ]
  },
  {
   "cell_type": "code",
   "execution_count": 17,
   "metadata": {},
   "outputs": [],
   "source": [
    "\"\"\"\n",
    "input:\n",
    "    i1, i2为两个实例\n",
    "output:\n",
    "    \n",
    "\"\"\"\n",
    "def takeStep(i1, i2, E1, E2, oS):\n",
    "    if i1 == i2: return 0\n",
    "    data = oS.dataMat\n",
    "    label = oS.labelMat\n",
    "    alpha = oS.alpha\n",
    "    b = oS.b\n",
    "    C = oS.C\n",
    "    alpha1 = alpha[i1]\n",
    "    alpha2 = alpha[i2]\n",
    "    x1 = data[i1]\n",
    "    x2 = data[i2]\n",
    "    y1 = label[i1]\n",
    "    y2 = label[i2]\n",
    "    s = y1 * y2\n",
    "#     y1_ = float(np.multiply(alpha, label).T * (data * x1.T)) + b\n",
    "#     y2_ = float(np.multiply(alpha, label).T * (data * x2.T)) + b\n",
    "#     E1 = y1_ - y1\n",
    "#     E2 = y2_ - y2\n",
    "    if y1 != y2:\n",
    "        L = max(0, alpha2 - alpha1)\n",
    "        H = min(C, C + alpha2 - alpha1)\n",
    "    else:\n",
    "        \n",
    "        L = max(0, alpha2 + alpha1 - C)\n",
    "        H = min(C, alpha2 + alpha1)\n",
    "    if L == H :\n",
    "        print('L == H')\n",
    "        return 0\n",
    "    eta = kernel(x1, x1) + kernel(x2, x2) - 2 * kernel(x1, x2)\n",
    "    \n",
    "    if eta > 0:\n",
    "        alpha2_new = alpha2 + y2 * (E1 - E2) / eta\n",
    "        if alpha2_new >= H:\n",
    "            alpha2_new = H\n",
    "        elif alpha2_new <= L:\n",
    "            alpha2_new = L\n",
    "        else:\n",
    "            alpha2_new = alpha2_new\n",
    "        \n",
    "#         alpha1_new = alpha1 + s * (alpha2 - alpha2_new_c)\n",
    "    else:\n",
    "        print('eta <= 0')\n",
    "        return 0\n",
    "#         f1 = y1 * (E1 + b) - alpha1 * kernel(x1, x1) - \\\n",
    "#              s * alpha2 * kernel(x1, x2)\n",
    "#         f2 = y2 * (E2 + b) - s * alpha1 * kernel(x1, x2) - \\\n",
    "#              alpha2 * kernel(x2, x2)\n",
    "#         L1 = alpha1 + s * (alpha2 - L)\n",
    "#         H1 = alpha1 + s * (alpha2 - H)\n",
    "#         fiL = L1 * f1 + L * f2 + (1/2) * np.power(L1, 2) * kernel(x1, x1) + \\\n",
    "#               (1/2) * np.power(L, 2) * kernel(x2, x2) + s * L * L1 * kernel(x1, x2)\n",
    "#         fiH = H1 * f1 + H * f2 + (1/2) * np.power(H1, 2) * kernel(x1, x1) + \\\n",
    "#               (1/2) * np.power(H, 2) * kernel(x2, x2) + s * H * H1 * kernel(x1, x2)\n",
    "#         eps = 0.001\n",
    "#         if fiL < fiH - eps:\n",
    "#             alpha2_new = L\n",
    "#         elif fiL > fiH + eps:\n",
    "#             alpha2_new = H\n",
    "#         else:\n",
    "#             alpha2_new = alpha2\n",
    "    alpha1_new = alpha1 + s * (alpha2 - alpha2_new)\n",
    "    oS.alpha[i1] = alpha1_new\n",
    "    oS.alpha[i2] = alpha2_new\n",
    "    updateCache(i1, oS)\n",
    "    updateCache(i2, oS)\n",
    "    b1 = E1 + y1 * (alpha1_new - alpha1) * kernel(x1, x1) + y2 * (alpha2_new - alpha2) * kernel(x1, x2) + b\n",
    "    b2 = E2 + y1 * (alpha1_new - alpha1) * kernel(x1, x2) + y2 * (alpha2_new - alpha2) * kernel(x2, x2) + b\n",
    "    if alpha1 > 0 and alpha1 < C:\n",
    "        oS.b = b1\n",
    "    elif alpha2 > 0 and alpha2 < C:\n",
    "        oS.b = b2\n",
    "    else : oS.b = (b1 + b2) / 2\n",
    "    return 1"
   ]
  },
  {
   "cell_type": "code",
   "execution_count": 19,
   "metadata": {},
   "outputs": [],
   "source": [
    "def examineExample(i2, oS):\n",
    "    data = oS.dataMat\n",
    "    label = oS.labelMat\n",
    "    alpha = oS.alpha\n",
    "    b = oS.b\n",
    "    C = oS.C\n",
    "    y2 = label[i2]\n",
    "    alpha2 = alpha[i2]\n",
    "    E2 = calcEk(i2, oS)\n",
    "    r2 = E2 * y2\n",
    "    if((r2 < -oS.tol) and (alpha2 < C) or (r2 > oS.tol and alpha2 > 0)):\n",
    "        notBound = np.nonzero((alpha.A > 0) * (alpha.A < C))[0] \n",
    "#         if(len(notBound) > 1):\n",
    "#             i1, E1 = selectI1(i2, oS, E2)\n",
    "#             if takeStep(i1, i2):\n",
    "#                 return 1\n",
    "        i1, E1 = selectI1(i2, oS, E2)\n",
    "        if takeStep(i1, i2, E1, E2, oS):\n",
    "            return 1\n",
    "        else :\n",
    "            return 0\n",
    "    else:\n",
    "        return 0"
   ]
  },
  {
   "cell_type": "code",
   "execution_count": 24,
   "metadata": {},
   "outputs": [],
   "source": [
    "def main(oS):\n",
    "    numChanged = 0;allSet = True\n",
    "    \n",
    "    while(numChanged > 0 or allSet):\n",
    "        numChanged = 0\n",
    "        if allSet:\n",
    "            for i in range(oS.r):\n",
    "                numChanged += examineExample(i, oS)\n",
    "        else:\n",
    "            notBoundIs = np.nonzero((oS.alpha.A > 0) * (oS.alpha.A < oS.C))[0]\n",
    "            for i in notBoundIs:\n",
    "                numChanged += examineExample(i,oS)\n",
    "        if allSet == True:\n",
    "            allSet = False\n",
    "        elif numChanged == 0 :\n",
    "            allSet = True           "
   ]
  },
  {
   "cell_type": "code",
   "execution_count": 11,
   "metadata": {},
   "outputs": [],
   "source": [
    "df = pd.read_csv('testSet.txt', sep = '\\t', names =['x','y', 'label'])"
   ]
  },
  {
   "cell_type": "code",
   "execution_count": 12,
   "metadata": {},
   "outputs": [],
   "source": [
    "dataMat = np.mat(df[['x', 'y']].values)\n",
    "labelMat = np.mat(df['label'].values).T"
   ]
  },
  {
   "cell_type": "code",
   "execution_count": 13,
   "metadata": {},
   "outputs": [],
   "source": [
    "oS = optStruct(dataMat, labelMat, 0.6, 0.001)"
   ]
  },
  {
   "cell_type": "code",
   "execution_count": null,
   "metadata": {},
   "outputs": [
    {
     "name": "stdout",
     "output_type": "stream",
     "text": [
      "L == H\n",
      "L == H\n",
      "L == H\n",
      "L == H\n",
      "L == H\n",
      "L == H\n",
      "L == H\n",
      "L == H\n",
      "L == H\n",
      "L == H\n",
      "L == H\n",
      "L == H\n",
      "L == H\n",
      "L == H\n",
      "L == H\n",
      "L == H\n",
      "L == H\n",
      "L == H\n",
      "L == H\n",
      "L == H\n",
      "L == H\n",
      "L == H\n",
      "L == H\n",
      "L == H\n",
      "L == H\n",
      "L == H\n",
      "L == H\n",
      "L == H\n",
      "L == H\n",
      "L == H\n",
      "L == H\n",
      "L == H\n",
      "L == H\n",
      "L == H\n",
      "L == H\n",
      "L == H\n",
      "L == H\n",
      "L == H\n",
      "L == H\n",
      "L == H\n",
      "L == H\n",
      "L == H\n",
      "L == H\n",
      "L == H\n",
      "L == H\n",
      "L == H\n",
      "L == H\n",
      "L == H\n",
      "L == H\n",
      "L == H\n",
      "L == H\n",
      "L == H\n"
     ]
    },
    {
     "name": "stderr",
     "output_type": "stream",
     "text": [
      "D:\\Programfiles\\Anaconda3\\lib\\site-packages\\ipykernel_launcher.py:73: RuntimeWarning: overflow encountered in add\n"
     ]
    }
   ],
   "source": [
    "main(oS)"
   ]
  },
  {
   "cell_type": "code",
   "execution_count": null,
   "metadata": {},
   "outputs": [],
   "source": [
    "oS.alpha"
   ]
  },
  {
   "cell_type": "code",
   "execution_count": null,
   "metadata": {},
   "outputs": [],
   "source": []
  }
 ],
 "metadata": {
  "kernelspec": {
   "display_name": "Python 3",
   "language": "python",
   "name": "python3"
  },
  "language_info": {
   "codemirror_mode": {
    "name": "ipython",
    "version": 3
   },
   "file_extension": ".py",
   "mimetype": "text/x-python",
   "name": "python",
   "nbconvert_exporter": "python",
   "pygments_lexer": "ipython3",
   "version": "3.6.4"
  }
 },
 "nbformat": 4,
 "nbformat_minor": 2
}
