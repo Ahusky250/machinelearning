{
 "cells": [
  {
   "cell_type": "code",
   "execution_count": 8,
   "metadata": {},
   "outputs": [],
   "source": [
    "import pandas as pd\n",
    "import numpy as np\n",
    "import matplotlib as plt"
   ]
  },
  {
   "cell_type": "code",
   "execution_count": 9,
   "metadata": {},
   "outputs": [],
   "source": [
    "filepath = r'D:\\Project\\jupyter\\machinelearning\\watermelon4_0.csv'"
   ]
  },
  {
   "cell_type": "code",
   "execution_count": 10,
   "metadata": {},
   "outputs": [],
   "source": [
    "k = 3\n",
    "df = pd.read_csv(filepath)\n",
    "dataMat = df[['density', 'ratio_suger']].values\n",
    "row, col = np.shape(dataMat)\n",
    "#print(row, col)\n",
    "#print(type(dataMat), type(dataMat[0]))"
   ]
  },
  {
   "cell_type": "code",
   "execution_count": 16,
   "metadata": {
    "scrolled": true
   },
   "outputs": [
    {
     "name": "stdout",
     "output_type": "stream",
     "text": [
      "randindex: [10 29 24]\n",
      "vec_mean: [[0.245 0.057]\n",
      " [0.446 0.459]\n",
      " [0.525 0.369]]\n",
      "[[0.245 0.057]\n",
      " [0.446 0.459]\n",
      " [0.525 0.369]] <class 'numpy.ndarray'>\n"
     ]
    }
   ],
   "source": [
    "randindex = np.random.randint(len(dataMat), size = k)\n",
    "print('randindex:', randindex)\n",
    "vec_mean = dataMat[randindex]\n",
    "# vec_mean = []\n",
    "# vec_mean.append(dataMat[5].tolist())\n",
    "# vec_mean.append(dataMat[11].tolist())\n",
    "# vec_mean.append(dataMat[23].tolist())\n",
    "#vec_mean = np.array(vec_mean)\n",
    "# vec_mean.append(dataMat[5])\n",
    "# vec_mean.append(dataMat[11])\n",
    "# vec_mean.append(dataMat[23])\n",
    "# vec_mean = np.array(vec_mean)\n",
    "print(vec_mean,type(vec_mean[0]))"
   ]
  },
  {
   "cell_type": "code",
   "execution_count": 12,
   "metadata": {
    "scrolled": true
   },
   "outputs": [
    {
     "name": "stdout",
     "output_type": "stream",
     "text": [
      "[0.697 0.46 ] [0.403 0.237]\n",
      "[0.294 0.223]\n",
      "[0.086436 0.049729]\n",
      "0.13616500000000006\n",
      "0.369005420014395\n",
      "0.5056055775008816\n",
      "0.22020445045457196\n"
     ]
    }
   ],
   "source": [
    "print(dataMat[0],vec_mean[0])\n",
    "print(dataMat[0] - vec_mean[0])\n",
    "print(np.power(dataMat[0] - vec_mean[0], 2))\n",
    "print(np.sum(np.power(dataMat[0] - vec_mean[0], 2)))\n",
    "print(np.sqrt(np.sum(np.power(dataMat[0] - vec_mean[0], 2))))\n",
    "print(np.sqrt(np.sum(np.power(dataMat[0] - vec_mean[1], 2))))\n",
    "print(np.sqrt(np.sum(np.power(dataMat[0] - vec_mean[2], 2))))"
   ]
  },
  {
   "cell_type": "code",
   "execution_count": 17,
   "metadata": {
    "scrolled": false
   },
   "outputs": [
    {
     "name": "stdout",
     "output_type": "stream",
     "text": [
      "第1次更新 [[9, 10, 11, 17, 18, 19], [14, 23, 26, 29], [0, 1, 2, 3, 4, 5, 6, 7, 8, 12, 13, 15, 16, 20, 21, 22, 24, 25, 27, 28]]\n",
      "第2次更新 [[5, 7, 9, 10, 11, 17, 18, 19], [14, 22, 23, 24, 26, 27, 29], [0, 1, 2, 3, 4, 6, 8, 12, 13, 15, 16, 20, 21, 25, 28]]\n",
      "第3次更新 [[5, 6, 7, 9, 10, 11, 17, 18, 19], [14, 22, 23, 24, 26, 27, 29], [0, 1, 2, 3, 4, 8, 12, 13, 15, 16, 20, 21, 25, 28]]\n",
      "第4次更新 [[5, 6, 7, 9, 10, 11, 17, 18, 19], [14, 22, 23, 24, 26, 27, 29], [0, 1, 2, 3, 4, 8, 12, 13, 15, 16, 20, 21, 25, 28]]\n",
      "clustering is : [[5, 6, 7, 9, 10, 11, 17, 18, 19], [14, 22, 23, 24, 26, 27, 29], [0, 1, 2, 3, 4, 8, 12, 13, 15, 16, 20, 21, 25, 28]]\n"
     ]
    }
   ],
   "source": [
    "vec_mean_change = True\n",
    "count = 0\n",
    "while vec_mean_change:\n",
    "    count += 1 \n",
    "    \n",
    "    vec_mean_change = False\n",
    "    C = []\n",
    "    for i in range(k):\n",
    "        C.append([])\n",
    "        #print(C)\n",
    "    for j in range(row):\n",
    "        distj = []\n",
    "        for i in range(k):\n",
    "            distj.append(np.sqrt(np.sum(np.power(dataMat[j] - vec_mean[i], 2))))\n",
    "        label = distj.index(np.min(distj))\n",
    "        #print(distj)\n",
    "        C[label].append(j)\n",
    "    print('第{}次更新'.format(count), C)\n",
    "    for i in range(k):\n",
    "        #print('vec_mean:', vec_mean)\n",
    "        vec_mean_temp = sum(dataMat[C[i]]) / len(C[i])\n",
    "        #print(vec_mean_temp, type(vec_mean_temp), type(vec_mean[0]))\n",
    "        if (vec_mean[i] - vec_mean_temp).any():\n",
    "            vec_mean[i] = vec_mean_temp\n",
    "            vec_mean_change = True\n",
    "print('clustering is :', C)"
   ]
  },
  {
   "cell_type": "code",
   "execution_count": 24,
   "metadata": {},
   "outputs": [
    {
     "data": {
      "text/plain": [
       "array([12, 14])"
      ]
     },
     "execution_count": 24,
     "metadata": {},
     "output_type": "execute_result"
    }
   ],
   "source": [
    "l1 = np.array([[1,2], [3,4]])\n",
    "l2 = np.array([[5,6], [7,8]])\n",
    "l1 = l2\n",
    "\n",
    "# l1 = [[1,3],[2,2]]\n",
    "# l2 = [[2,5], [3,3]]\n",
    "# l1[0] = l2[0]\n",
    "np.sum(l1,0)"
   ]
  },
  {
   "cell_type": "code",
   "execution_count": 21,
   "metadata": {},
   "outputs": [
    {
     "data": {
      "text/plain": [
       "0.8351101723724841"
      ]
     },
     "execution_count": 21,
     "metadata": {},
     "output_type": "execute_result"
    }
   ],
   "source": [
    "dist = [8.12882674498602, 0.8351101723724841, 0.8351101723724841]\n",
    "np.min(dist)"
   ]
  }
 ],
 "metadata": {
  "kernelspec": {
   "display_name": "Python 3",
   "language": "python",
   "name": "python3"
  },
  "language_info": {
   "codemirror_mode": {
    "name": "ipython",
    "version": 3
   },
   "file_extension": ".py",
   "mimetype": "text/x-python",
   "name": "python",
   "nbconvert_exporter": "python",
   "pygments_lexer": "ipython3",
   "version": "3.6.4"
  }
 },
 "nbformat": 4,
 "nbformat_minor": 2
}
