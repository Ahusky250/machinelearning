{
 "cells": [
  {
   "cell_type": "code",
   "execution_count": 2,
   "metadata": {},
   "outputs": [],
   "source": [
    "import pandas as pd\n",
    "import numpy as np\n",
    "import matplotlib.pyplot as plt"
   ]
  },
  {
   "cell_type": "code",
   "execution_count": 3,
   "metadata": {},
   "outputs": [],
   "source": [
    "filepath = r'D:\\Project\\jupyter\\machinelearning\\watermelon4_0.csv'"
   ]
  },
  {
   "cell_type": "code",
   "execution_count": 34,
   "metadata": {},
   "outputs": [],
   "source": [
    "df = pd.read_csv(filepath)\n",
    "row, col = np.shape(df)\n",
    "label = np.ones([row,1])\n",
    "for i in range(len(df)):\n",
    "    if i>=8 and i <=20:\n",
    "        label[i] = 0\n",
    "#df['label'] = label\n",
    "dataMat = df[['density', 'ratio_suger']].values\n",
    "p = []\n",
    "p_label = []\n",
    "p.append(dataMat[4])\n",
    "p_label.append(label[4])\n",
    "p.append(dataMat[11])\n",
    "p_label.append(label[11])\n",
    "p.append(dataMat[17])\n",
    "p_label.append(label[17])\n",
    "p.append(dataMat[22])\n",
    "p_label.append(label[22])\n",
    "p.append(dataMat[28])\n",
    "p_label.append(label[28])\n",
    "yita = 0.1   # 学习率\n",
    "train_step = 400"
   ]
  },
  {
   "cell_type": "code",
   "execution_count": 35,
   "metadata": {},
   "outputs": [
    {
     "name": "stdout",
     "output_type": "stream",
     "text": [
      "the prototype vector is : [array([0.34042513, 0.28291707]), array([0.32696491, 0.06085152]), array([0.2863474 , 0.28787624]), array([0.47859169, 0.42674041]), array([0.74218011, 0.50141895])]\n"
     ]
    }
   ],
   "source": [
    "for i in range(train_step):\n",
    "    randindex = np.random.randint(row)\n",
    "    dist = []\n",
    "    for j in range(len(p)):\n",
    "        dist.append(np.sqrt(sum(np.power(dataMat[randindex]-p[j], 2))))\n",
    "    p_index = dist.index(np.min(dist))\n",
    "    if p_label[p_index] == label[randindex]:\n",
    "        p[p_index] = p[p_index] + yita*(dataMat[randindex] - p[p_index])\n",
    "    else:\n",
    "        p[p_index] = p[p_index] - yita*(dataMat[randindex] - p[p_index])\n",
    "\n",
    "print('the prototype vector is :', p)\n",
    "result = zeros((row, 2)\n",
    "for i in range(row):\n",
    "    dist = []\n",
    "    for j in range(len(p)):\n",
    "        dist.append(np.sqrt(sum(np.power(dataMat[i]-p[j], 2))))\n",
    "    p_index = dist.index(np.min(dist))\n",
    "    result[i][0] = p_label[p_index]\n",
    "    result[i][1] = np.min(dist)"
   ]
  },
  {
   "cell_type": "code",
   "execution_count": null,
   "metadata": {},
   "outputs": [],
   "source": [
    "def draw(result, dataMat):\n",
    "    "
   ]
  },
  {
   "cell_type": "code",
   "execution_count": 42,
   "metadata": {},
   "outputs": [
    {
     "data": {
      "text/plain": [
       "array([[0., 0.],\n",
       "       [0., 0.],\n",
       "       [0., 0.],\n",
       "       [0., 0.],\n",
       "       [0., 0.],\n",
       "       [0., 0.],\n",
       "       [0., 0.],\n",
       "       [0., 0.],\n",
       "       [0., 0.],\n",
       "       [0., 0.],\n",
       "       [0., 0.],\n",
       "       [0., 0.],\n",
       "       [0., 0.],\n",
       "       [0., 0.],\n",
       "       [0., 0.],\n",
       "       [0., 0.],\n",
       "       [0., 0.],\n",
       "       [0., 0.],\n",
       "       [0., 0.],\n",
       "       [0., 0.],\n",
       "       [0., 0.],\n",
       "       [0., 0.],\n",
       "       [0., 0.],\n",
       "       [0., 0.],\n",
       "       [0., 0.],\n",
       "       [0., 0.],\n",
       "       [0., 0.],\n",
       "       [0., 0.],\n",
       "       [0., 0.],\n",
       "       [0., 0.]])"
      ]
     },
     "execution_count": 42,
     "metadata": {},
     "output_type": "execute_result"
    }
   ],
   "source": [
    "result = np.zeros((row, 2))\n",
    "result"
   ]
  },
  {
   "cell_type": "code",
   "execution_count": null,
   "metadata": {},
   "outputs": [],
   "source": []
  }
 ],
 "metadata": {
  "kernelspec": {
   "display_name": "Python 3",
   "language": "python",
   "name": "python3"
  },
  "language_info": {
   "codemirror_mode": {
    "name": "ipython",
    "version": 3
   },
   "file_extension": ".py",
   "mimetype": "text/x-python",
   "name": "python",
   "nbconvert_exporter": "python",
   "pygments_lexer": "ipython3",
   "version": "3.6.4"
  }
 },
 "nbformat": 4,
 "nbformat_minor": 2
}
