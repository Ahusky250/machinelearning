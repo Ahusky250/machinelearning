{
 "cells": [
  {
   "cell_type": "code",
   "execution_count": 1,
   "metadata": {},
   "outputs": [],
   "source": [
    "import numpy as np\n",
    "import pandas as pd\n",
    "import matplotlib.pyplot as plt"
   ]
  },
  {
   "cell_type": "code",
   "execution_count": 2,
   "metadata": {},
   "outputs": [],
   "source": [
    "filepath = r'D:\\Project\\jupyter\\machinelearning\\chapter9clustering\\watermelon4_0.csv'"
   ]
  },
  {
   "cell_type": "code",
   "execution_count": 3,
   "metadata": {},
   "outputs": [],
   "source": [
    "df = pd.read_csv(filepath)\n",
    "dataMat = np.mat(df[['density', 'ratio_suger']].values)"
   ]
  },
  {
   "cell_type": "code",
   "execution_count": 4,
   "metadata": {},
   "outputs": [],
   "source": [
    "def func_p(x, u, sigma):\n",
    "    _, n = x.shape\n",
    "    return (1/(pow(2 * np.pi, n/2) * pow(np.linalg.det(sigma), 1/2))) * np.exp((-1/2) * (x-u) * sigma.I * (x-u).T)"
   ]
  },
  {
   "cell_type": "code",
   "execution_count": 5,
   "metadata": {},
   "outputs": [],
   "source": [
    "\"\"\"\n",
    "Gaussian Mixture Model \n",
    "EM 算法进行求局部最优解\n",
    "input：\n",
    "    dataMat:数据集矩阵\n",
    "    k :Gaussian 混合成分个数\n",
    "output:\n",
    "    簇划分 C ={C1, C2, ..., Ck}\n",
    "\"\"\"\n",
    "def GMM_EM(dataMat, k, maxIter):\n",
    "    r, c = dataMat.shape\n",
    "    alpha = [1/3, 1/3 ,1/3]\n",
    "    u = [dataMat[5], dataMat[21], dataMat[26]]\n",
    "    sigma = [np.mat([[0.1, 0.0],[0.0, 0.1]])] * 3\n",
    "    iter = 0\n",
    "    while(iter <= maxIter):\n",
    "        gamma = []\n",
    "        for j in range(r):\n",
    "            gamma.append([])\n",
    "            p_sigmak = 0\n",
    "            for l in range(k):\n",
    "                p_sigmak += alpha[l] * func_p(dataMat[j], u[l], sigma[l])\n",
    "            for i in range(k):\n",
    "                gamma_ji = (alpha[i] * func_p(dataMat[j], u[i], sigma[i])) / p_sigmak\n",
    "                gamma[j].append(np.asarray(gamma_ji)[0][0])\n",
    "    #                 print(np.asarray(gamma_ji)[0][0])\n",
    "    #     print(gamma)\n",
    "        gammaMat = np.mat(gamma)\n",
    "    #     print(gammaMat)\n",
    "        for i in range(k):\n",
    "    #         print(gammaMat.T)\n",
    "    #         print(gammaMat.T[i].shape, dataMat.shape)\n",
    "            u[i] = (gammaMat.T[i] * dataMat) / np.sum(gammaMat.T[i], 1)\n",
    "            sigma[i] = (np.multiply(gammaMat.T[i], (dataMat - u[i]).T) * (dataMat - u[i]))/np.sum(gammaMat.T[i], 1)\n",
    "            alpha[i] = np.sum(gammaMat.T[i], 1) / r\n",
    "        iter += 1\n",
    "#     print(gamma)\n",
    "    C = {}\n",
    "    for i in range(k):\n",
    "        C[i] = []\n",
    "    for j in range(r):\n",
    "        cj = gamma[j].index(max(gamma[j]))\n",
    "        C[cj].append(j)\n",
    "\n",
    "    return C, u"
   ]
  },
  {
   "cell_type": "code",
   "execution_count": 6,
   "metadata": {},
   "outputs": [],
   "source": [
    "C, u = GMM_EM(dataMat, 3, 10)"
   ]
  },
  {
   "cell_type": "markdown",
   "metadata": {},
   "source": [
    "绘制图像"
   ]
  },
  {
   "cell_type": "code",
   "execution_count": 7,
   "metadata": {},
   "outputs": [
    {
     "data": {
      "image/png": "[encoded data removed]",
      "text/plain": [
       "<matplotlib.figure.Figure at 0x8d4b630>"
      ]
     },
     "metadata": {},
     "output_type": "display_data"
    }
   ],
   "source": [
    "xcord = []\n",
    "ycord = []\n",
    "for i in range(len(C)):\n",
    "    data = np.asarray(dataMat[C[i]])\n",
    "    #print(data)\n",
    "    xcord.append([])\n",
    "    ycord.append([])\n",
    "    for line in data:\n",
    "#         print(line)\n",
    "        xcord[i].append(line[0])\n",
    "        ycord[i].append(line[1])\n",
    "# print(xcord, ycord)\n",
    "x_vec = []\n",
    "y_vec = []\n",
    "for data in u:\n",
    "#     print(data)\n",
    "    x_vec.append(np.asarray(data)[0][0])\n",
    "    y_vec.append(np.asarray(data)[0][1])\n",
    "plt.figure() \n",
    "plt.title('10 times clustering result')\n",
    "plt.scatter(x_vec, y_vec, marker = '+')\n",
    "plt.scatter(xcord[0], ycord[0], marker = 'o', c = 'red')\n",
    "plt.scatter(xcord[1], ycord[1], marker = 's', c = 'green')\n",
    "plt.scatter(xcord[2], ycord[2], marker = '^', c = 'blue')\n",
    "plt.xlabel('density')\n",
    "plt.ylabel('ratio-suger')\n",
    "plt.show()"
   ]
  },
  {
   "cell_type": "code",
   "execution_count": 8,
   "metadata": {},
   "outputs": [
    {
     "data": {
      "image/png": "[encoded data removed]",
      "text/plain": [
       "<matplotlib.figure.Figure at 0x9170898>"
      ]
     },
     "metadata": {},
     "output_type": "display_data"
    }
   ],
   "source": [
    "C, u = GMM_EM(dataMat, 3, 50)\n",
    "xcord = []\n",
    "ycord = []\n",
    "for i in range(len(C)):\n",
    "    data = np.asarray(dataMat[C[i]])\n",
    "    #print(data)\n",
    "    xcord.append([])\n",
    "    ycord.append([])\n",
    "    for line in data:\n",
    "#         print(line)\n",
    "        xcord[i].append(line[0])\n",
    "        ycord[i].append(line[1])\n",
    "# print(xcord, ycord)\n",
    "x_vec = []\n",
    "y_vec = []\n",
    "for data in u:\n",
    "#     print(data)\n",
    "    x_vec.append(np.asarray(data)[0][0])\n",
    "    y_vec.append(np.asarray(data)[0][1])\n",
    "plt.figure() \n",
    "plt.title('50 times clustering result')\n",
    "plt.scatter(x_vec, y_vec, marker = '+')\n",
    "plt.scatter(xcord[0], ycord[0], marker = 'o', c = 'red')\n",
    "plt.scatter(xcord[1], ycord[1], marker = 's', c = 'green')\n",
    "plt.scatter(xcord[2], ycord[2], marker = '^', c = 'blue')\n",
    "plt.xlabel('density')\n",
    "plt.ylabel('ratio-suger')\n",
    "plt.show()"
   ]
  }
 ],
 "metadata": {
  "kernelspec": {
   "display_name": "Python 3",
   "language": "python",
   "name": "python3"
  },
  "language_info": {
   "codemirror_mode": {
    "name": "ipython",
    "version": 3
   },
   "file_extension": ".py",
   "mimetype": "text/x-python",
   "name": "python",
   "nbconvert_exporter": "python",
   "pygments_lexer": "ipython3",
   "version": "3.6.4"
  }
 },
 "nbformat": 4,
 "nbformat_minor": 2
}
