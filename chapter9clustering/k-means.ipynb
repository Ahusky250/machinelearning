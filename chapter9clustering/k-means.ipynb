{
 "cells": [
  {
   "cell_type": "code",
   "execution_count": 43,
   "metadata": {},
   "outputs": [],
   "source": [
    "import pandas as pd\n",
    "import numpy as np\n",
    "import matplotlib.pyplot as plt"
   ]
  },
  {
   "cell_type": "code",
   "execution_count": 44,
   "metadata": {},
   "outputs": [],
   "source": [
    "filepath = r'D:\\Project\\jupyter\\machinelearning\\watermelon4_0.csv'"
   ]
  },
  {
   "cell_type": "code",
   "execution_count": 45,
   "metadata": {},
   "outputs": [],
   "source": [
    "k = 3\n",
    "df = pd.read_csv(filepath)\n",
    "dataMat = df[['density', 'ratio_suger']].values\n",
    "row, col = np.shape(dataMat)\n",
    "#print(row, col)\n",
    "#print(type(dataMat), type(dataMat[0]))"
   ]
  },
  {
   "cell_type": "code",
   "execution_count": 46,
   "metadata": {
    "scrolled": true
   },
   "outputs": [
    {
     "name": "stdout",
     "output_type": "stream",
     "text": [
      "randindex: [14  3 13]\n"
     ]
    }
   ],
   "source": [
    "randindex = np.random.randint(len(dataMat), size = k)\n",
    "print('randindex:', randindex)\n",
    "vec_mean = dataMat[randindex]\n",
    "# vec_mean = []\n",
    "# vec_mean.append(dataMat[5].tolist())\n",
    "# vec_mean.append(dataMat[11].tolist())\n",
    "# vec_mean.append(dataMat[23].tolist())\n",
    "#vec_mean = np.array(vec_mean)\n",
    "# vec_mean.append(dataMat[5])\n",
    "# vec_mean.append(dataMat[11])\n",
    "# vec_mean.append(dataMat[23])\n",
    "# vec_mean = np.array(vec_mean)\n",
    "#print(vec_mean,type(vec_mean[0]))"
   ]
  },
  {
   "cell_type": "code",
   "execution_count": 47,
   "metadata": {
    "scrolled": true
   },
   "outputs": [],
   "source": [
    "# print(dataMat[0],vec_mean[0])\n",
    "# print(dataMat[0] - vec_mean[0])\n",
    "# print(np.power(dataMat[0] - vec_mean[0], 2))\n",
    "# print(np.sum(np.power(dataMat[0] - vec_mean[0], 2)))\n",
    "# print(np.sqrt(np.sum(np.power(dataMat[0] - vec_mean[0], 2))))\n",
    "# print(np.sqrt(np.sum(np.power(dataMat[0] - vec_mean[1], 2))))\n",
    "# print(np.sqrt(np.sum(np.power(dataMat[0] - vec_mean[2], 2))))"
   ]
  },
  {
   "cell_type": "code",
   "execution_count": 48,
   "metadata": {
    "scrolled": true
   },
   "outputs": [
    {
     "name": "stdout",
     "output_type": "stream",
     "text": [
      "第1次更新 [[5, 7, 9, 10, 11, 14, 17, 18, 19, 23, 27, 29], [0, 1, 2, 3, 21, 22, 24, 25, 26, 28], [4, 6, 8, 12, 13, 15, 16, 20]]\n",
      "第2次更新 [[5, 7, 9, 10, 11, 14, 17, 18, 19, 22, 27, 29], [0, 1, 3, 21, 23, 24, 25, 26, 28], [2, 4, 6, 8, 12, 13, 15, 16, 20]]\n",
      "第3次更新 [[5, 7, 9, 10, 11, 14, 17, 18, 19, 22, 27], [0, 1, 3, 21, 23, 24, 25, 26, 28, 29], [2, 4, 6, 8, 12, 13, 15, 16, 20]]\n",
      "第4次更新 [[5, 6, 7, 9, 10, 11, 14, 17, 18, 19, 22], [0, 1, 3, 21, 23, 24, 25, 26, 27, 28, 29], [2, 4, 8, 12, 13, 15, 16, 20]]\n",
      "第5次更新 [[5, 6, 7, 9, 10, 11, 14, 17, 18, 19, 22], [0, 1, 3, 21, 23, 24, 25, 26, 27, 28, 29], [2, 4, 8, 12, 13, 15, 16, 20]]\n",
      "clustering is : [[5, 6, 7, 9, 10, 11, 14, 17, 18, 19, 22], [0, 1, 3, 21, 23, 24, 25, 26, 27, 28, 29], [2, 4, 8, 12, 13, 15, 16, 20]]\n"
     ]
    }
   ],
   "source": [
    "vec_mean_change = True\n",
    "count = 0\n",
    "while vec_mean_change:\n",
    "    count += 1 \n",
    "    \n",
    "    vec_mean_change = False\n",
    "    C = []\n",
    "    for i in range(k):\n",
    "        C.append([])\n",
    "        #print(C)\n",
    "    for j in range(row):\n",
    "        distj = []\n",
    "        for i in range(k):\n",
    "            distj.append(np.sqrt(np.sum(np.power(dataMat[j] - vec_mean[i], 2))))\n",
    "        label = distj.index(np.min(distj))\n",
    "        #print(distj)\n",
    "        C[label].append(j)\n",
    "    print('第{}次更新'.format(count), C)\n",
    "    for i in range(k):\n",
    "        #print('vec_mean:', vec_mean)\n",
    "        vec_mean_temp = sum(dataMat[C[i]]) / len(C[i])\n",
    "        #print(vec_mean_temp, type(vec_mean_temp), type(vec_mean[0]))\n",
    "        if (vec_mean[i] - vec_mean_temp).any():\n",
    "            vec_mean[i] = vec_mean_temp\n",
    "            vec_mean_change = True\n",
    "print('clustering is :', C)"
   ]
  },
  {
   "cell_type": "code",
   "execution_count": 50,
   "metadata": {},
   "outputs": [
    {
     "data": {
      "image/png": "[encoded data removed]",
      "text/plain": [
       "<matplotlib.figure.Figure at 0x9353a58>"
      ]
     },
     "metadata": {},
     "output_type": "display_data"
    }
   ],
   "source": [
    "xcord = []\n",
    "ycord = []\n",
    "for i in range(len(C)):\n",
    "    data = dataMat[C[i]]\n",
    "    #print(data)\n",
    "    xcord.append([])\n",
    "    ycord.append([])\n",
    "    for line in data:\n",
    "        xcord[i].append(line[0])\n",
    "        ycord[i].append(line[1])\n",
    "x_vec = []\n",
    "y_vec = []\n",
    "for v in vec_mean:\n",
    "    x_vec.append(v[0])\n",
    "    y_vec.append(v[1])\n",
    "plt.figure()\n",
    "plt.title('clustering result')\n",
    "plt.scatter(x_vec, y_vec, marker = '+')\n",
    "plt.scatter(xcord[0], ycord[0], marker = 'o', c = 'red')\n",
    "plt.scatter(xcord[1], ycord[1], marker = 's', c = 'green')\n",
    "plt.scatter(xcord[2], ycord[2], marker = '^', c = 'blue')\n",
    "plt.xlabel('density')\n",
    "plt.ylabel('ratio-suger')\n",
    "plt.show()"
   ]
  },
  {
   "cell_type": "code",
   "execution_count": 53,
   "metadata": {},
   "outputs": [
    {
     "name": "stdout",
     "output_type": "stream",
     "text": [
      "[11 15]\n",
      "[12 14]\n"
     ]
    }
   ],
   "source": [
    "l1 = np.array([[1,2], [3,4]])\n",
    "l2 = np.array([[5,6], [7,8]])\n",
    "l1 = l2\n",
    "\n",
    "# l1 = [[1,3],[2,2]]\n",
    "# l2 = [[2,5], [3,3]]\n",
    "# l1[0] = l2[0]\n",
    "print(np.sum(l1,1))\n",
    "print(sum(l1))"
   ]
  },
  {
   "cell_type": "code",
   "execution_count": 32,
   "metadata": {},
   "outputs": [
    {
     "name": "stdout",
     "output_type": "stream",
     "text": [
      "0.8351101723724841\n"
     ]
    }
   ],
   "source": [
    "dist = [8.12882674498602, 0.8351101723724841, 0.8351101723724841]\n",
    "print(np.min(dist))"
   ]
  },
  {
   "cell_type": "code",
   "execution_count": null,
   "metadata": {},
   "outputs": [],
   "source": []
  }
 ],
 "metadata": {
  "kernelspec": {
   "display_name": "Python 3",
   "language": "python",
   "name": "python3"
  },
  "language_info": {
   "codemirror_mode": {
    "name": "ipython",
    "version": 3
   },
   "file_extension": ".py",
   "mimetype": "text/x-python",
   "name": "python",
   "nbconvert_exporter": "python",
   "pygments_lexer": "ipython3",
   "version": "3.6.4"
  }
 },
 "nbformat": 4,
 "nbformat_minor": 2
}
