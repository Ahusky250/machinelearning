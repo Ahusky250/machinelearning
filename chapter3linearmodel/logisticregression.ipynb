{
 "cells": [
  {
   "cell_type": "code",
   "execution_count": 1,
   "metadata": {},
   "outputs": [],
   "source": [
    "import matplotlib.pyplot as plt\n",
    "import numpy as np\n",
    "import pandas as pd"
   ]
  },
  {
   "cell_type": "code",
   "execution_count": null,
   "metadata": {},
   "outputs": [],
   "source": [
    "filepath = r'D:\\Project\\jupyter\\machinelearning\\watermelon.csv'"
   ]
  },
  {
   "cell_type": "code",
   "execution_count": null,
   "metadata": {},
   "outputs": [],
   "source": [
    "# print(df.values.shape)\n",
    "# # n\n",
    "# print(type(df),type(df['norm'].values))\n",
    "# print(type(df[['norm','density','ratio_suger']].values))\n",
    "# print(dataMat, type(dataMat),type(dataMat[0][0]))\n",
    "# print(df['label'].values[:] == df['label'].values)\n",
    "# #print(np.mat(df['label'].values[:]).transpose(), type(labelMat))"
   ]
  },
  {
   "cell_type": "code",
   "execution_count": 2,
   "metadata": {},
   "outputs": [],
   "source": [
    "#df = pd.read_csv(filepath,encoding = 'gb18030')\n",
    "df = pd.read_csv('watermelon.csv')\n",
    "#print(df['label'])\n",
    "m,n=np.shape(df.values)  \n",
    "df['norm']=np.ones((m,1)) \n",
    "#print(df['norm'])\n",
    "dataMat=np.array(df[['norm','density','ratio_suger']].values[:,:])  \n",
    "labelMat=np.mat(df['label'].values[:]).transpose() \n",
    "#print(labelMat)"
   ]
  },
  {
   "cell_type": "code",
   "execution_count": 47,
   "metadata": {},
   "outputs": [],
   "source": [
    "#sigmoid函数  \n",
    "def sigmoid(inX):  \n",
    "    return 1.0/(1+np.exp(-inX))  \n",
    "  \n",
    "#梯度上升算法  \n",
    "def gradAscent(dataMat,labelMat):  \n",
    "    m,n=np.shape(dataMat)\n",
    "    #print(dataMat)\n",
    "    #print(m,n)\n",
    "    alpha=0.1  \n",
    "    maxCycles=500  \n",
    "    weights=np.array(np.ones((n,1)))\n",
    "    print(weights)\n",
    "  \n",
    "    for k in range(maxCycles):   \n",
    "        a=np.dot(dataMat,weights)  \n",
    "        h=sigmoid(a) \n",
    "        if k == 0:\n",
    "            print(h)\n",
    "        error=(labelMat-h)  \n",
    "        weights=weights+alpha*np.dot(dataMat.transpose(),error)  \n",
    "    return weights  \n",
    "  \n",
    "#随机梯度上升  \n",
    "def randomgradAscent(dataMat,label,numIter=50):  \n",
    "    m,n=np.shape(dataMat)  \n",
    "    weights=np.ones(n)\n",
    "    print(weights)\n",
    "    for j in range(numIter):  \n",
    "        dataIndex=list(range(m))  \n",
    "        for i in range(m):  \n",
    "            alpha=40/(1.0+j+i)+0.2  \n",
    "  \n",
    "            randIndex_Index=int(np.random.uniform(0,len(dataIndex)))  \n",
    "            randIndex=dataIndex[randIndex_Index]  \n",
    "            #h=sigmoid(sum(np.dot(dataMat[randIndex],weights)))  \n",
    "            h=sigmoid(np.dot(dataMat[randIndex],weights))\n",
    "            if i== 0 and j == 0:\n",
    "                print(h)\n",
    "            error=(label[randIndex]-h)  \n",
    "            weights=weights+alpha*error[0,0]*(dataMat[randIndex].transpose()) \n",
    "            #print(type(dataIndex))\n",
    "            del(dataIndex[randIndex_Index])  \n",
    "    return weights  \n"
   ]
  },
  {
   "cell_type": "code",
   "execution_count": 51,
   "metadata": {},
   "outputs": [],
   "source": [
    "#画图  \n",
    "def plotBestFit(weights):  \n",
    "    m=np.shape(dataMat)[0]  \n",
    "    xcord1=[]  \n",
    "    ycord1=[]  \n",
    "    xcord2=[]  \n",
    "    ycord2=[]  \n",
    "    for i in range(m):  \n",
    "        if labelMat[i]==1:  \n",
    "            xcord1.append(dataMat[i,1])  \n",
    "            ycord1.append(dataMat[i,2])  \n",
    "        else:  \n",
    "            xcord2.append(dataMat[i,1])  \n",
    "            ycord2.append(dataMat[i,2])  \n",
    "    plt.figure(1)  \n",
    "    ax=plt.subplot(111)  \n",
    "    ax.scatter(xcord1,ycord1,s=30,c='red',marker='s')  \n",
    "    ax.scatter(xcord2,ycord2,s=30,c='green')  \n",
    "    x=np.arange(0.2,0.8,0.1)  \n",
    "    y=np.array((-weights[0]-weights[1]*x)/weights[2])   # 不明白为什么要y为0\n",
    "    #print(np.shape(x), x)  \n",
    "    #print(np.shape(y), y)  \n",
    "    plt.sca(ax)  \n",
    "    plt.plot(x,y)      #ramdomgradAscent  \n",
    "    #plt.plot(x,y[0])   #gradAscent  \n",
    "    plt.xlabel('density')  \n",
    "    plt.ylabel('ratio_sugar')  \n",
    "    #plt.title('gradAscent logistic regression')  \n",
    "    plt.title('ramdom gradAscent logistic regression')  \n",
    "    plt.show()  \n"
   ]
  },
  {
   "cell_type": "code",
   "execution_count": 52,
   "metadata": {},
   "outputs": [
    {
     "name": "stdout",
     "output_type": "stream",
     "text": [
      "[1. 1. 1.]\n",
      "0.8087641718453525\n"
     ]
    },
    {
     "data": {
      "image/png": "[encoded data removed]",
      "text/plain": [
       "<matplotlib.figure.Figure at 0x7e5c828>"
      ]
     },
     "metadata": {},
     "output_type": "display_data"
    }
   ],
   "source": [
    "#weights=gradAscent(dataMat,labelMat)  \n",
    "weights=randomgradAscent(dataMat,labelMat)  \n",
    "plotBestFit(weights)  "
   ]
  }
 ],
 "metadata": {
  "kernelspec": {
   "display_name": "Python 3",
   "language": "python",
   "name": "python3"
  },
  "language_info": {
   "codemirror_mode": {
    "name": "ipython",
    "version": 3
   },
   "file_extension": ".py",
   "mimetype": "text/x-python",
   "name": "python",
   "nbconvert_exporter": "python",
   "pygments_lexer": "ipython3",
   "version": "3.6.4"
  }
 },
 "nbformat": 4,
 "nbformat_minor": 2
}
