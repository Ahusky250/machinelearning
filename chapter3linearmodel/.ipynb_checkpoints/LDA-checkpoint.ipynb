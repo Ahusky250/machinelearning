{
 "cells": [
  {
   "cell_type": "code",
   "execution_count": null,
   "metadata": {},
   "outputs": [],
   "source": [
    "import numpy as np\n",
    "import pandas as pd"
   ]
  },
  {
   "cell_type": "code",
   "execution_count": null,
   "metadata": {},
   "outputs": [],
   "source": [
    "filepath = 'watermelon.csv'"
   ]
  },
  {
   "cell_type": "code",
   "execution_count": null,
   "metadata": {},
   "outputs": [],
   "source": [
    "df = pd.read_csv(filepath)\n",
    "df = df[['density', 'ratio_suger', 'label']]"
   ]
  },
  {
   "cell_type": "code",
   "execution_count": null,
   "metadata": {},
   "outputs": [],
   "source": [
    "# 数组过滤\n",
    "# tMat = np.mat(df[['density', 'ratio_suger', 'label']].values )\n",
    "# tMat[tMat[:,2] == 0]"
   ]
  },
  {
   "cell_type": "code",
   "execution_count": null,
   "metadata": {},
   "outputs": [],
   "source": [
    "grouped = df.groupby(by = 'label').groups"
   ]
  },
  {
   "cell_type": "code",
   "execution_count": null,
   "metadata": {},
   "outputs": [],
   "source": [
    "ind = df.index[df['label'] == 0]\n",
    "df0 = df.loc[ind]\n",
    "ind = df.index[df['label'] == 1]\n",
    "df1 = df.loc[ind]"
   ]
  },
  {
   "cell_type": "code",
   "execution_count": null,
   "metadata": {},
   "outputs": [],
   "source": [
    "dataMat0 = np.mat(df0[['density', 'ratio_suger']].values)\n",
    "labelMat0 = np.mat(df0[['label']].values)\n",
    "dataMat1 = np.mat(df1[['density', 'ratio_suger']].values)\n",
    "labelMat1 = np.mat(df1[['label']].values)"
   ]
  },
  {
   "cell_type": "code",
   "execution_count": null,
   "metadata": {},
   "outputs": [],
   "source": [
    "\"\"\"\n",
    "input:\n",
    "np.cov(dataMat) : dataMat 每一列为一个样本，行为属性\n",
    "    dataMat: 每一行为一个样本，列为属性\n",
    "output:\n",
    "    协方差矩阵,u均值向量\n",
    "\"\"\"\n",
    "def myCov(dataMat):\n",
    "    r, c = dataMat.shape\n",
    "    u = np.mean(dataMat, axis = 0)\n",
    "    X = dataMat - u\n",
    "    \n",
    "    return (X.T * X) / (r - 1), u"
   ]
  },
  {
   "cell_type": "code",
   "execution_count": null,
   "metadata": {},
   "outputs": [],
   "source": [
    "\"\"\"\n",
    "np.linalg.svd()\n",
    "input:\n",
    "    dataMat:数据矩阵\n",
    "output:\n",
    "    U,V,sigma\n",
    "\"\"\"\n",
    "def mySvd(dataMat):\n",
    "    lambu, U = np.linalg.eig(dataMat * dataMat.T)\n",
    "    sortedind = np.argsort(lambu)\n",
    "    ind = sortedind[::-1]\n",
    "    U_sorted = U.T[ind].T\n",
    "#     print(lambu[ind])\n",
    "    lambv, V = np.linalg.eig(dataMat.T * dataMat)\n",
    "    sortedind = np.argsort(lambv)\n",
    "    ind = sortedind[::-1]\n",
    "    V_sorted = V.T[ind].T\n",
    "#     print(lambv[ind])\n",
    "    lamb = np.power(lambu, 0.5)\n",
    "#     print(lamb)\n",
    "    return U_sorted, lamb, V_sorted"
   ]
  },
  {
   "cell_type": "code",
   "execution_count": null,
   "metadata": {},
   "outputs": [],
   "source": [
    "\"\"\"\n",
    "input : \n",
    "    U,V,sigma,d\n",
    "output:\n",
    "    appData:近似值\n",
    "    appDataI : 近似值的逆\n",
    "\"\"\"\n",
    "def appDataI(U, sigma, V, d):\n",
    "    sortedind = np.argsort(sigma)\n",
    "    ind = sortedind[:-d-1:-1]\n",
    "    sigma = sigma[ind]\n",
    "    sigmaArr = np.zeros([d,d])\n",
    "    for i in range(d):\n",
    "        sigmaArr[i][i] = sigma[i]\n",
    "    sigmaMat = np.mat(sigmaArr)\n",
    "    appData = U[:, :d] * sigmaMat * V[:, :d].T\n",
    "    print('appData:', appData)\n",
    "    appDataI = V[:, :d] * sigmaMat.I * U[:, :d].T\n",
    "    return appDataI"
   ]
  },
  {
   "cell_type": "code",
   "execution_count": null,
   "metadata": {
    "scrolled": false
   },
   "outputs": [],
   "source": [
    "sigma0, u0 = myCov(dataMat0)\n",
    "sigma1, u1 = myCov(dataMat1)\n",
    "Sw = sigma0 + sigma1\n",
    "print(Sw)\n",
    "U, sigma, V = mySvd(Sw)\n",
    "SwI = appDataI(U, sigma, V, 1)\n",
    "w = SwI * (u0 - u1).T"
   ]
  },
  {
   "cell_type": "code",
   "execution_count": null,
   "metadata": {},
   "outputs": [],
   "source": [
    "Sw.I"
   ]
  },
  {
   "cell_type": "code",
   "execution_count": null,
   "metadata": {},
   "outputs": [],
   "source": [
    "SwI"
   ]
  },
  {
   "cell_type": "code",
   "execution_count": null,
   "metadata": {},
   "outputs": [],
   "source": [
    "print(U.shape,sigma.shape, V.shape)"
   ]
  },
  {
   "cell_type": "code",
   "execution_count": null,
   "metadata": {},
   "outputs": [],
   "source": [
    "dataMat = np.mat(df[['density', 'ratio_suger']].values)"
   ]
  },
  {
   "cell_type": "code",
   "execution_count": null,
   "metadata": {},
   "outputs": [],
   "source": [
    "dataMat * w"
   ]
  },
  {
   "cell_type": "code",
   "execution_count": null,
   "metadata": {},
   "outputs": [],
   "source": [
    "m0 = np.array([1,3,2,5])"
   ]
  },
  {
   "cell_type": "code",
   "execution_count": null,
   "metadata": {},
   "outputs": [],
   "source": [
    "ind = np.argsort(m0)\n",
    "print(ind)"
   ]
  },
  {
   "cell_type": "code",
   "execution_count": null,
   "metadata": {},
   "outputs": [],
   "source": [
    "m0[ind]"
   ]
  },
  {
   "cell_type": "code",
   "execution_count": null,
   "metadata": {},
   "outputs": [],
   "source": []
  }
 ],
 "metadata": {
  "kernelspec": {
   "display_name": "Python 3",
   "language": "python",
   "name": "python3"
  },
  "language_info": {
   "codemirror_mode": {
    "name": "ipython",
    "version": 3
   },
   "file_extension": ".py",
   "mimetype": "text/x-python",
   "name": "python",
   "nbconvert_exporter": "python",
   "pygments_lexer": "ipython3",
   "version": "3.6.4"
  }
 },
 "nbformat": 4,
 "nbformat_minor": 2
}
