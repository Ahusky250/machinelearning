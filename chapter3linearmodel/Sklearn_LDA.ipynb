{
 "cells": [
  {
   "cell_type": "code",
   "execution_count": 2,
   "metadata": {},
   "outputs": [],
   "source": [
    "import numpy as np\n",
    "import matplotlib.pyplot as plt\n",
    "from matplotlib import colors\n",
    "import pandas as pd\n",
    "from sklearn.discriminant_analysis import LinearDiscriminantAnalysis "
   ]
  },
  {
   "cell_type": "code",
   "execution_count": 2,
   "metadata": {},
   "outputs": [],
   "source": [
    "df = pd.read_csv('watermelon.csv')\n",
    "#type(df[['density', 'ratio_suger']].values)\n",
    "X = df[['density', 'ratio_suger']].values\n",
    "y = df['label'].values\n",
    "#print(X, type(X))\n",
    "#print(y, type(y))"
   ]
  },
  {
   "cell_type": "code",
   "execution_count": 5,
   "metadata": {},
   "outputs": [],
   "source": [
    "cmap = colors.LinearSegmentedColormap(\n",
    "    'red_blue_classes',\n",
    "    {'red': [(0, 1, 1), (1, 0.7, 0.7)],\n",
    "     'green': [(0, 0.7, 0.7), (1, 0.7, 0.7)],\n",
    "     'blue': [(0, 0.7, 0.7), (1, 1, 1)]})\n",
    "plt.cm.register_cmap(cmap=cmap)"
   ]
  },
  {
   "cell_type": "code",
   "execution_count": 13,
   "metadata": {},
   "outputs": [],
   "source": [
    "# plot functions\n",
    "def plot_data(lda, X, y, y_pred):\n",
    "    plt.figure()\n",
    "    plt.title('Linear Discriminant Analysis')\n",
    "    plt.xlabel('Sugar Rate')\n",
    "    plt.ylabel('Density')\n",
    "    tp = (y == y_pred)  # True Positive //Boolean matrix\n",
    "\n",
    "    tp0, tp1 = tp[y == 0], tp[y == 1]\n",
    "#     print('tp0:', tp0)\n",
    "#     print('tp1:', tp1)\n",
    "#     print('tp:', tp)\n",
    "    X0, X1 = X[y == 0], X[y == 1]\n",
    "#     print('X0:', X0)\n",
    "#     print('X1:', X1)\n",
    "#     print('~tp0:', ~tp0)\n",
    "    X0_tp, X0_fp = X0[tp0], X0[~tp0]\n",
    "    X1_tp, X1_fp = X1[tp1], X1[~tp1]\n",
    "    # class 0: dots\n",
    "    plt.plot(X0_tp[:, 0], X0_tp[:, 1], 's', color='red')\n",
    "    plt.plot(X0_fp[:, 0], X0_fp[:, 1], 'o', color='#990000')  # dark red\n",
    "\n",
    "    # class 1: dots\n",
    "    plt.plot(X1_tp[:, 0], X1_tp[:, 1], 's', color='blue')\n",
    "    plt.plot(X1_fp[:, 0], X1_fp[:, 1], 'o', color='#000099')  # dark blue\n",
    "\n",
    "    # class 0 and 1 : areas\n",
    "    nx, ny = 200, 100\n",
    "    x_min, x_max = plt.xlim()\n",
    "    print(x_min, x_max)\n",
    "    y_min, y_max = plt.ylim()\n",
    "    xx, yy = np.meshgrid(np.linspace(x_min, x_max, nx),\n",
    "                         np.linspace(y_min, y_max, ny))\n",
    "    Z = lda.predict_proba(np.c_[xx.ravel(), yy.ravel()])\n",
    "    #print(Z)\n",
    "    Z = Z[:, 1].reshape(xx.shape)\n",
    "    plt.pcolormesh(xx, yy, Z, cmap='red_blue_classes',\n",
    "                   norm=colors.Normalize(0., 1.))\n",
    "    plt.contour(xx, yy, Z, [0.5], linewidths=2., colors='k')\n",
    "\n",
    "    # means\n",
    "    plt.plot(lda.means_[0][0], lda.means_[0][1],\n",
    "             'o', color='black', markersize=10)\n",
    "    plt.plot(lda.means_[1][0], lda.means_[1][1],\n",
    "             'o', color='black', markersize=10)"
   ]
  },
  {
   "cell_type": "code",
   "execution_count": 14,
   "metadata": {
    "scrolled": true
   },
   "outputs": [
    {
     "name": "stdout",
     "output_type": "stream",
     "text": [
      "[1 1 1 1 0 0 0 0 0 0 0 0 0 0 1 0 0]\n",
      "0.21644999999999998 0.80055\n"
     ]
    },
    {
     "data": {
      "image/png": "[encoded data removed]",
      "text/plain": [
       "<matplotlib.figure.Figure at 0xad72048>"
      ]
     },
     "metadata": {},
     "output_type": "display_data"
    }
   ],
   "source": [
    "# Linear Discriminant Analysis\n",
    "lda = LinearDiscriminantAnalysis(solver=\"svd\", store_covariance=True)\n",
    "#y_pred = lda.fit(X, y).predict(X)\n",
    "lda.fit(X, y)\n",
    "y_pred = lda.predict(X)\n",
    "print(y_pred)\n",
    "plot_data(lda, X, y, y_pred)\n",
    "plt.axis('tight')\n",
    "plt.suptitle('Linear Discriminant Analysis of Watermelon')\n",
    "plt.show()"
   ]
  },
  {
   "cell_type": "code",
   "execution_count": null,
   "metadata": {},
   "outputs": [],
   "source": [
    "x = np.arange(-5, 5, 1)\n",
    "y = np.arange(-5, 5, 1)\n",
    "# print('x:', x)\n",
    "# print('y:', y)\n",
    "#xx, yy = np.meshgrid(x, y, sparse=True)\n",
    "xx, yy = np.meshgrid(x, y)\n",
    "# print('xx:', xx)\n",
    "# print('yy:', yy)\n",
    "# print(xx.ravel())\n",
    "# print(yy.ravel())\n",
    "z = np.sin(xx**2 + yy**2) / (xx**2 + yy**2)\n",
    "#print('z:', z)\n",
    "h = plt.contourf(x,y,z)"
   ]
  },
  {
   "cell_type": "code",
   "execution_count": 3,
   "metadata": {},
   "outputs": [
    {
     "data": {
      "text/plain": [
       "array([[1, 4],\n",
       "       [2, 5],\n",
       "       [3, 6]])"
      ]
     },
     "execution_count": 3,
     "metadata": {},
     "output_type": "execute_result"
    }
   ],
   "source": [
    "np.c_[np.array([1,2,3]), np.array([4,5,6])]"
   ]
  }
 ],
 "metadata": {
  "kernelspec": {
   "display_name": "Python 3",
   "language": "python",
   "name": "python3"
  },
  "language_info": {
   "codemirror_mode": {
    "name": "ipython",
    "version": 3
   },
   "file_extension": ".py",
   "mimetype": "text/x-python",
   "name": "python",
   "nbconvert_exporter": "python",
   "pygments_lexer": "ipython3",
   "version": "3.6.4"
  }
 },
 "nbformat": 4,
 "nbformat_minor": 2
}
